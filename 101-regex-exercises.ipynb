{
 "cells": [
  {
   "cell_type": "code",
   "execution_count": null,
   "id": "010b994a",
   "metadata": {},
   "outputs": [],
   "source": []
  },
  {
   "cell_type": "markdown",
   "id": "04a56860",
   "metadata": {},
   "source": [
    "## Goals and Curriculum Directions\n",
    "- bite sized introductions\n",
    "- use raw strings and link to the documentation why\n",
    "- for each introductory concept, introduce working example code that demonstrates the learning objective\n",
    "- start literally with no synthesis, abstractions, or cognitive leaps\n",
    "- iteratively link and layer concepts together, progressively and slowly weave together abstractions\n",
    "- minor to moderate synthesis and cognitive leaps after the second half\n",
    "- repetition, repetition, repetition"
   ]
  },
  {
   "cell_type": "markdown",
   "id": "6641acb8",
   "metadata": {},
   "source": [
    "## Topics for Exercises\n",
    "- introduce `re.search`, `re.sub`, `re.split`, and `re.compile`\n",
    "- n exercises with re.IGNORECASE or re.VERBOSE then together\n",
    "- n intro exercises producing only the regex string pattern\n",
    "- n intro exercises for matching string literals\n",
    "- n exercises looking for metacharacter literals\n",
    "- n exercises using | and the character class\n",
    "- n exercises escaping \n",
    "- n exercises using repetition characters\n",
    "- n exercises using capture groups\n",
    "- n exercises using named capture groups"
   ]
  },
  {
   "cell_type": "code",
   "execution_count": 1,
   "id": "ad102b19",
   "metadata": {},
   "outputs": [],
   "source": [
    "import re"
   ]
  },
  {
   "cell_type": "code",
   "execution_count": null,
   "id": "e62e13ee",
   "metadata": {},
   "outputs": [],
   "source": [
    "# Use RegEx Write a function that takes in a string and returns True/Fa"
   ]
  },
  {
   "cell_type": "code",
   "execution_count": null,
   "id": "a0ff01b1",
   "metadata": {},
   "outputs": [],
   "source": [
    "# Write a function that takes in a string and returns if that string has any vowels. \n",
    "# This function should return True or False.\n",
    "\n"
   ]
  },
  {
   "cell_type": "code",
   "execution_count": null,
   "id": "9a570421",
   "metadata": {},
   "outputs": [],
   "source": [
    "# Write a function that takes in a string and returns if that string is only vowels"
   ]
  },
  {
   "cell_type": "code",
   "execution_count": null,
   "id": "8974095b",
   "metadata": {},
   "outputs": [],
   "source": [
    "# Write a function that takes in a string and returns True/False if that string is exactly one vowel.\n"
   ]
  },
  {
   "cell_type": "code",
   "execution_count": null,
   "id": "a5640194",
   "metadata": {},
   "outputs": [],
   "source": [
    "# Write a regex pattern that returns \n",
    "\n"
   ]
  },
  {
   "cell_type": "code",
   "execution_count": null,
   "id": "54c3104a",
   "metadata": {},
   "outputs": [],
   "source": [
    "# Write a function that takes in an string and returns "
   ]
  }
 ],
 "metadata": {
  "kernelspec": {
   "display_name": "Python 3 (ipykernel)",
   "language": "python",
   "name": "python3"
  },
  "language_info": {
   "codemirror_mode": {
    "name": "ipython",
    "version": 3
   },
   "file_extension": ".py",
   "mimetype": "text/x-python",
   "name": "python",
   "nbconvert_exporter": "python",
   "pygments_lexer": "ipython3",
   "version": "3.8.12"
  }
 },
 "nbformat": 4,
 "nbformat_minor": 5
}
