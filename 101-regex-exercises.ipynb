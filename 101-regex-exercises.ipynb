{
 "cells": [
  {
   "cell_type": "code",
   "execution_count": null,
   "id": "010b994a",
   "metadata": {},
   "outputs": [],
   "source": []
  },
  {
   "cell_type": "markdown",
   "id": "04a56860",
   "metadata": {},
   "source": [
    "## Goals and Curriculum Directions\n",
    "- bite sized introductions\n",
    "- use raw strings and link to the documentation why\n",
    "- for each introductory concept, introduce working example code that demonstrates the learning objective\n",
    "- start literally with no synthesis, abstractions, or cognitive leaps\n",
    "- iteratively link and layer concepts together, progressively and slowly weave together abstractions\n",
    "- minor to moderate synthesis and cognitive leaps after the second half\n",
    "- repetition, repetition, repetition"
   ]
  },
  {
   "cell_type": "markdown",
   "id": "6641acb8",
   "metadata": {},
   "source": [
    "## Topics for Exercises\n",
    "- introduce `re.search`, `re.sub`, `re.split`, and `re.compile`\n",
    "- n exercises with re.IGNORECASE or re.VERBOSE then together\n",
    "- n intro exercises producing only the regex string pattern\n",
    "- n intro exercises for matching string literals\n",
    "- n exercises looking for metacharacter literals\n",
    "- n exercises using | and the character class\n",
    "- n exercises escaping \n",
    "- n exercises using repetition characters\n",
    "- n exercises using capture groups\n",
    "- n exercises using named capture groups"
   ]
  },
  {
   "cell_type": "code",
   "execution_count": 1,
   "id": "ad102b19",
   "metadata": {},
   "outputs": [],
   "source": [
    "import re"
   ]
  },
  {
   "cell_type": "code",
   "execution_count": null,
   "id": "e62e13ee",
   "metadata": {},
   "outputs": [],
   "source": [
    "# Use RegEx Write a function that takes in a string and returns True/Fa"
   ]
  },
  {
   "cell_type": "code",
   "execution_count": null,
   "id": "a0ff01b1",
   "metadata": {},
   "outputs": [],
   "source": [
    "# Write a function that takes in a string and returns if that string has any vowels. \n",
    "# This function should return True or False.\n",
    "\n"
   ]
  },
  {
   "cell_type": "code",
   "execution_count": null,
   "id": "9a570421",
   "metadata": {},
   "outputs": [],
   "source": [
    "# Write a function that takes in a string and returns if that string is only vowels"
   ]
  },
  {
   "cell_type": "code",
   "execution_count": null,
   "id": "8974095b",
   "metadata": {},
   "outputs": [],
   "source": [
    "# Write a function that takes in a string and returns True/False if that string is exactly one vowel.\n"
   ]
  },
  {
   "cell_type": "code",
   "execution_count": null,
   "id": "a5640194",
   "metadata": {},
   "outputs": [],
   "source": [
    "# Write a regex pattern that returns \n",
    "\n"
   ]
  },
  {
   "cell_type": "code",
   "execution_count": null,
   "id": "54c3104a",
   "metadata": {},
   "outputs": [],
   "source": [
    "# Write a function that takes in an string and returns "
   ]
  },
  {
   "cell_type": "markdown",
   "id": "e6be0f8a",
   "metadata": {},
   "source": [
    "## Greedy vs. Non-Greedy Behavior\n",
    "- When?\n",
    "- Where?\n",
    "- Why?"
   ]
  },
  {
   "cell_type": "code",
   "execution_count": 12,
   "id": "0481aeea",
   "metadata": {},
   "outputs": [
    {
     "data": {
      "text/plain": [
       "<re.Match object; span=(0, 23), match='abcde and another thing'>"
      ]
     },
     "execution_count": 12,
     "metadata": {},
     "output_type": "execute_result"
    }
   ],
   "source": [
    "# Greedy = match as much as possible\n",
    "re.search(r\".+\", \"abcde and another thing\")"
   ]
  },
  {
   "cell_type": "code",
   "execution_count": 11,
   "id": "ce540b4f",
   "metadata": {},
   "outputs": [
    {
     "data": {
      "text/plain": [
       "<re.Match object; span=(0, 1), match='a'>"
      ]
     },
     "execution_count": 11,
     "metadata": {},
     "output_type": "execute_result"
    }
   ],
   "source": [
    "# Non-Greedy = match as little as possible\n",
    "re.search(r\".+?\", \"abcde\")"
   ]
  },
  {
   "cell_type": "code",
   "execution_count": 7,
   "id": "45bd8b7a",
   "metadata": {},
   "outputs": [
    {
     "data": {
      "text/plain": [
       "<re.Match object; span=(0, 2), match='ab'>"
      ]
     },
     "execution_count": 7,
     "metadata": {},
     "output_type": "execute_result"
    }
   ],
   "source": [
    "# Greedy = match as much as possible\n",
    "re.search(r\"ab?\", \"abcd\")"
   ]
  },
  {
   "cell_type": "code",
   "execution_count": 8,
   "id": "f4d3a346",
   "metadata": {},
   "outputs": [
    {
     "data": {
      "text/plain": [
       "<re.Match object; span=(0, 1), match='a'>"
      ]
     },
     "execution_count": 8,
     "metadata": {},
     "output_type": "execute_result"
    }
   ],
   "source": [
    "# Non-Greedy = match as few as possible\n",
    "re.search(r\"ab??\", \"abcd\")"
   ]
  },
  {
   "cell_type": "code",
   "execution_count": 9,
   "id": "892b8613",
   "metadata": {},
   "outputs": [
    {
     "data": {
      "text/plain": [
       "<re.Match object; span=(0, 5), match='abcde'>"
      ]
     },
     "execution_count": 9,
     "metadata": {},
     "output_type": "execute_result"
    }
   ],
   "source": [
    "# Greedy = match as much as possible\n",
    "re.search(r\"\\w*\", \"abcde\")"
   ]
  },
  {
   "cell_type": "code",
   "execution_count": 10,
   "id": "36b269cf",
   "metadata": {},
   "outputs": [
    {
     "data": {
      "text/plain": [
       "<re.Match object; span=(0, 0), match=''>"
      ]
     },
     "execution_count": 10,
     "metadata": {},
     "output_type": "execute_result"
    }
   ],
   "source": [
    "# Non-Greedy - Match as few as possible\n",
    "re.search(r\"\\w*?\", \"abcde\")"
   ]
  },
  {
   "cell_type": "code",
   "execution_count": null,
   "id": "cb38c178",
   "metadata": {},
   "outputs": [],
   "source": []
  }
 ],
 "metadata": {
  "kernelspec": {
   "display_name": "Python 3 (ipykernel)",
   "language": "python",
   "name": "python3"
  },
  "language_info": {
   "codemirror_mode": {
    "name": "ipython",
    "version": 3
   },
   "file_extension": ".py",
   "mimetype": "text/x-python",
   "name": "python",
   "nbconvert_exporter": "python",
   "pygments_lexer": "ipython3",
   "version": "3.9.7"
  }
 },
 "nbformat": 4,
 "nbformat_minor": 5
}
