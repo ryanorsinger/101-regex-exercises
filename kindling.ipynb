{
 "cells": [
  {
   "cell_type": "markdown",
   "id": "9283fa46",
   "metadata": {},
   "source": [
    "# Meet Regular Expressions\n",
    "\n",
    "## What?\n",
    "- Regular expressions (called regexes or regex patterns) are a tiny language for dealing with text and character patterns.\n",
    "- With RegEx patterns we can:\n",
    "    - Does this string match a pattern?\n",
    "    - Is there a match for the pattern anywhere in the string?\n",
    "    - Modify + split strings in various ways\n",
    "    \n",
    "re library functions\n",
    "- `re.search` scans through a string, looking for any location where the RE matches.\n",
    "- `re.findall` Finds all substrings where the RE matches; returns a list.\n",
    "- `re.split` splits a string on a given regex pattern, removing that pattern. The result is a list of a strings.\n",
    "- `re.sub` allows us to match a regex and substitute in a new substring for the match.\n",
    "\n",
    "\n",
    "## So What?\n",
    "- Power + precision\n",
    "    - Cost is learning something new and potentially unfamiliar.\n",
    "    - Payoff is a language that works with any other programming language to operate on text and character patterns.\n",
    "- Regular Expressions are cross platform and available in many programming languages and environments:\n",
    "    - Command line tools (Linux, Windows, Mac, etc...)\n",
    "    - Python\n",
    "    - SQL flavors offer RegEx\n",
    "    - Java (Scala/Clojure)\n",
    "    - Other languages like Julia, Ruby, PHP, C#, etc...\n",
    "    - Like SQL, there are differences between some of the different RegEx implementations, but if you know your RegEx, you can bring value in many environments.\n",
    "\n",
    "## When is RegEx the right tool or wrong tool?\n",
    "- If you can solve the problem with built-in string methods in your language, do so.\n",
    "- If you need more capability than built-in string methods\n",
    "- If you're parsing HTML, JSON, or XML, use a tool built for those formats. Regex + html/json = don't\n",
    "\n",
    "## Now What?\n",
    "- We'll start simple by writing regex patterns to match literal characters.\n",
    "- Then we will introduce metacharacters, that have special meaning and functionality.\n",
    "\n",
    "## Key Concepts\n",
    "- The RegEx metacharacters `. ^ $ * + ? { } [ ] \\ | ( )` have special meanings. \n",
    "- Square brackets create a \"character class\". \n",
    "    - Character classes allow us to specify many OR operations\n",
    "    - For example, `r\"[aeiou]\"` matches any lowercase vowel character. Identical to `r\"a|e|i|o|u\"`\n",
    "    - `r\"[a-z]\"` matches lowercase a through z.\n",
    "- Metacharacters are not active inside of the character class square brackets `[]`\n",
    "- Outside of the character class `[]`, if you need to match a metacharacter character literally, you will need to put a `\\` in front of that character. `r\"\\+\"` will match the literal `+` character.\n",
    "- RegEx has characters for special sequences:\n",
    "    - `.` matches any character\n",
    "    - `\\d` matches any numeral. Is equivalent to `[0-9]`\n",
    "    - `\\D` matches any non-digit character and is equivalent to `[^0-9]`. \n",
    "    - `\\s` matches any white space like ` `, tab, soft return, new line etc...\n",
    "    - `\\w` matches any alphanumeric character and underscore. Equivalent to `[0-9a-zA-Z_]`\n",
    "    - `\\W` matches any non-alphanumeric character. Equivalent to `[^a-zA-Z0-9_]`\n",
    "- `.` Matches any character\n",
    "- Repetition:\n",
    "    - `*` matches zero or more of the previous pattern\n",
    "    - `+` matches 1 or more of the previous pattern\n",
    "- `?` after a pattern means that pattern is optional\n",
    "- Not - `[^abc]` matches anything but \"a\" or \"b\" or \"c\"\n",
    "- Anchors\n",
    "    - `^` start\n",
    "    - `$` end\n",
    "    - `\\b` word boundary\n",
    "- Groups\n",
    "    - `(a)`\n",
    "\n",
    "## How Deep Does RegEx go?\n",
    "- For challenging strings to match, like email addresses, recommend using pre-built RegEx specifications like  the HTML specification at https://html.spec.whatwg.org/multipage/forms.html#valid-e-mail-address\n",
    "- With known, good, and proven RegEx patterns like these, you don't need to reinvent things.\n",
    "- ```r\"^[a-zA-Z0-9.!#$%&'*+/=?^_`{|}~-]+@[a-zA-Z0-9](?:[a-zA-Z0-9-]{0,61}[a-zA-Z0-9])?(?:\\.[a-zA-Z0-9](?:[a-zA-Z0-9-]{0,61}[a-zA-Z0-9])?)*$\"```\n"
   ]
  },
  {
   "cell_type": "code",
   "execution_count": 2,
   "id": "fdb0df63",
   "metadata": {},
   "outputs": [],
   "source": [
    "import re\n",
    "import pandas as pd"
   ]
  },
  {
   "cell_type": "markdown",
   "id": "935082af",
   "metadata": {},
   "source": [
    "### Patterns to Match Literals \n",
    "> Crawl before you walk"
   ]
  },
  {
   "cell_type": "code",
   "execution_count": 2,
   "id": "f795d9a2",
   "metadata": {
    "scrolled": true
   },
   "outputs": [
    {
     "data": {
      "text/plain": [
       "'Two households, both alike in dignity, In fair Verona, where we lay our scene, From ancient grudge break to new mutiny, Where civil blood makes civil hands unclean.'"
      ]
     },
     "execution_count": 2,
     "metadata": {},
     "output_type": "execute_result"
    }
   ],
   "source": [
    "string = \"Two households, both alike in dignity, In fair Verona, where we lay our scene, From ancient grudge break to new mutiny, Where civil blood makes civil hands unclean.\"\n",
    "string"
   ]
  },
  {
   "cell_type": "code",
   "execution_count": 3,
   "id": "ddfcd68e",
   "metadata": {},
   "outputs": [
    {
     "data": {
      "text/plain": [
       "<re.Match object; span=(47, 53), match='Verona'>"
      ]
     },
     "execution_count": 3,
     "metadata": {},
     "output_type": "execute_result"
    }
   ],
   "source": [
    "# We can search for a literal match of the string Verona\n",
    "# re.search(r\"pattern\", \"our subject\")\n",
    "x = re.search(r\"Verona\", string)\n",
    "x"
   ]
  },
  {
   "cell_type": "code",
   "execution_count": 4,
   "id": "34c0736d",
   "metadata": {},
   "outputs": [
    {
     "data": {
      "text/plain": [
       "'Verona'"
      ]
     },
     "execution_count": 4,
     "metadata": {},
     "output_type": "execute_result"
    }
   ],
   "source": [
    "# the span returned is the index. \n",
    "# Consider if we were to splice the string using the span bounds\n",
    "string[47:53]"
   ]
  },
  {
   "cell_type": "code",
   "execution_count": 5,
   "id": "755f59ae",
   "metadata": {},
   "outputs": [
    {
     "data": {
      "text/plain": [
       "<re.Match object; span=(39, 53), match='In fair Verona'>"
      ]
     },
     "execution_count": 5,
     "metadata": {},
     "output_type": "execute_result"
    }
   ],
   "source": [
    "re.search(r\"In fair Verona\", string)"
   ]
  },
  {
   "cell_type": "code",
   "execution_count": 6,
   "id": "cfe97a67",
   "metadata": {},
   "outputs": [],
   "source": [
    "# The string \"Leonardo DiCaprio\" is not here, so re.search returns None\n",
    "re.search(r\"Leonardo DiCaprio\", string)"
   ]
  },
  {
   "cell_type": "code",
   "execution_count": 7,
   "id": "8ccd03c4",
   "metadata": {},
   "outputs": [
    {
     "data": {
      "text/plain": [
       "<re.Match object; span=(126, 131), match='civil'>"
      ]
     },
     "execution_count": 7,
     "metadata": {},
     "output_type": "execute_result"
    }
   ],
   "source": [
    "# re.search returns the first match\n",
    "re.search(r\"civil\", string)"
   ]
  },
  {
   "cell_type": "code",
   "execution_count": 8,
   "id": "80942b16",
   "metadata": {},
   "outputs": [
    {
     "data": {
      "text/plain": [
       "['civil', 'civil']"
      ]
     },
     "execution_count": 8,
     "metadata": {},
     "output_type": "execute_result"
    }
   ],
   "source": [
    "# .findall returns all matches\n",
    "re.findall(r\"civil\", string)"
   ]
  },
  {
   "cell_type": "code",
   "execution_count": 9,
   "id": "4f81eb50",
   "metadata": {},
   "outputs": [
    {
     "data": {
      "text/plain": [
       "[]"
      ]
     },
     "execution_count": 9,
     "metadata": {},
     "output_type": "execute_result"
    }
   ],
   "source": [
    "# empty set for no matches with .findall\n",
    "re.findall(r\"Claire Danes\", string)"
   ]
  },
  {
   "cell_type": "code",
   "execution_count": 10,
   "id": "672c8b72",
   "metadata": {},
   "outputs": [
    {
     "data": {
      "text/plain": [
       "<re.Match object; span=(0, 3), match='Two'>"
      ]
     },
     "execution_count": 10,
     "metadata": {},
     "output_type": "execute_result"
    }
   ],
   "source": [
    "re.search(r\"Two\", string)"
   ]
  },
  {
   "cell_type": "code",
   "execution_count": 11,
   "id": "d6e9c4f4",
   "metadata": {},
   "outputs": [],
   "source": [
    "# Are computers particular on specifics?\n",
    "re.search(r\"two\", string)"
   ]
  },
  {
   "cell_type": "code",
   "execution_count": 12,
   "id": "a58afdde",
   "metadata": {},
   "outputs": [
    {
     "data": {
      "text/plain": [
       "<re.Match object; span=(0, 3), match='Two'>"
      ]
     },
     "execution_count": 12,
     "metadata": {},
     "output_type": "execute_result"
    }
   ],
   "source": [
    "# The re.IGNORECASE flag does exactly that\n",
    "re.search(r\"two\", string, re.IGNORECASE)"
   ]
  },
  {
   "cell_type": "code",
   "execution_count": 13,
   "id": "7eac3e7e",
   "metadata": {},
   "outputs": [
    {
     "data": {
      "text/plain": [
       "<re.Match object; span=(0, 1), match='a'>"
      ]
     },
     "execution_count": 13,
     "metadata": {},
     "output_type": "execute_result"
    }
   ],
   "source": [
    "re.search(r\"A\", \"aaaaaa\", re.IGNORECASE)"
   ]
  },
  {
   "cell_type": "code",
   "execution_count": 14,
   "id": "223f3e2c",
   "metadata": {},
   "outputs": [
    {
     "data": {
      "text/plain": [
       "<re.Match object; span=(0, 5), match='aaaaa'>"
      ]
     },
     "execution_count": 14,
     "metadata": {},
     "output_type": "execute_result"
    }
   ],
   "source": [
    "re.search(r\"Aaaaa\", \"aaaaaa\", re.IGNORECASE)"
   ]
  },
  {
   "cell_type": "markdown",
   "id": "857d51d1",
   "metadata": {},
   "source": [
    "## Using `|` for a logical OR to open opportunities\n",
    "- We can use `|` with literal characters or other regular expression patterns"
   ]
  },
  {
   "cell_type": "code",
   "execution_count": 15,
   "id": "971d7d94",
   "metadata": {},
   "outputs": [
    {
     "data": {
      "text/plain": [
       "['grey', 'gray', 'gray', 'grey']"
      ]
     },
     "execution_count": 15,
     "metadata": {},
     "output_type": "execute_result"
    }
   ],
   "source": [
    "# OR\n",
    "# Findall returns all matches \n",
    "re.findall(r\"gray|grey\", \"I can't remember if you spell grey gray or gray like grey!\")"
   ]
  },
  {
   "cell_type": "code",
   "execution_count": 16,
   "id": "47b73648",
   "metadata": {},
   "outputs": [
    {
     "data": {
      "text/plain": [
       "<re.Match object; span=(12, 17), match='apple'>"
      ]
     },
     "execution_count": 16,
     "metadata": {},
     "output_type": "execute_result"
    }
   ],
   "source": [
    "# The .search method matches only the first match\n",
    "re.search(r\"orange|apple\", \"I like both apples and oranges\")"
   ]
  },
  {
   "cell_type": "code",
   "execution_count": 17,
   "id": "19dc9e16",
   "metadata": {},
   "outputs": [
    {
     "data": {
      "text/plain": [
       "['this', 'that']"
      ]
     },
     "execution_count": 17,
     "metadata": {},
     "output_type": "execute_result"
    }
   ],
   "source": [
    "re.findall(r\"this|that\", \"this that and the other\")"
   ]
  },
  {
   "cell_type": "code",
   "execution_count": 18,
   "id": "a33c092c",
   "metadata": {},
   "outputs": [
    {
     "data": {
      "text/plain": [
       "<re.Match object; span=(1, 2), match='a'>"
      ]
     },
     "execution_count": 18,
     "metadata": {},
     "output_type": "execute_result"
    }
   ],
   "source": [
    "# has a vowel, anywhere\n",
    "re.search(r\"a|e|i|o|u\", \"banana\", re.IGNORECASE)"
   ]
  },
  {
   "cell_type": "code",
   "execution_count": 19,
   "id": "120b4858",
   "metadata": {},
   "outputs": [
    {
     "data": {
      "text/plain": [
       "['a', 'a', 'a']"
      ]
     },
     "execution_count": 19,
     "metadata": {},
     "output_type": "execute_result"
    }
   ],
   "source": [
    "re.findall(r\"[aeiou]\", \"banana\", re.IGNORECASE)"
   ]
  },
  {
   "cell_type": "code",
   "execution_count": 20,
   "id": "b1046aa2",
   "metadata": {},
   "outputs": [
    {
     "data": {
      "text/plain": [
       "['a', 'a', 'a']"
      ]
     },
     "execution_count": 20,
     "metadata": {},
     "output_type": "execute_result"
    }
   ],
   "source": [
    "re.findall(r\"a|e|i|o|u\", \"banana\", re.IGNORECASE)"
   ]
  },
  {
   "cell_type": "code",
   "execution_count": 21,
   "id": "ab6361ea",
   "metadata": {},
   "outputs": [
    {
     "data": {
      "text/plain": [
       "<re.Match object; span=(0, 10), match='bananarama'>"
      ]
     },
     "execution_count": 21,
     "metadata": {},
     "output_type": "execute_result"
    }
   ],
   "source": [
    "# carot is starts-with\n",
    "# . is any character\n",
    "# * is zero or more\n",
    "re.search(r\"^b.*\", \"bananarama\")"
   ]
  },
  {
   "cell_type": "code",
   "execution_count": 22,
   "id": "72e883b1",
   "metadata": {},
   "outputs": [
    {
     "data": {
      "text/plain": [
       "<re.Match object; span=(0, 17), match='bananarama pajama'>"
      ]
     },
     "execution_count": 22,
     "metadata": {},
     "output_type": "execute_result"
    }
   ],
   "source": [
    "# .* finds the largest possible match\n",
    "# technical term is greedy\n",
    "re.search(r\"^b.*\", \"bananarama pajama\")"
   ]
  },
  {
   "cell_type": "code",
   "execution_count": 23,
   "id": "a797cd6d",
   "metadata": {},
   "outputs": [
    {
     "data": {
      "text/plain": [
       "<re.Match object; span=(0, 10), match='bananarama'>"
      ]
     },
     "execution_count": 23,
     "metadata": {},
     "output_type": "execute_result"
    }
   ],
   "source": [
    "# match b then 1 or more alphanumerics for a word\n",
    "# \\w means any a-zA-Z0-9_\n",
    "# + means 1 or more letters\n",
    "# when the pattern hits the \" \" before pajama, we're done\n",
    "re.search(r\"^b\\w+\", \"bananarama pajama\")"
   ]
  },
  {
   "cell_type": "code",
   "execution_count": 24,
   "id": "4a6ff488",
   "metadata": {},
   "outputs": [
    {
     "data": {
      "text/plain": [
       "<re.Match object; span=(6, 8), match='ba'>"
      ]
     },
     "execution_count": 24,
     "metadata": {},
     "output_type": "execute_result"
    }
   ],
   "source": [
    "# match the character b then any other character\n",
    "re.search(r\"b.\", \"hello bananarama pajama\")"
   ]
  },
  {
   "cell_type": "code",
   "execution_count": 25,
   "id": "d2efefce",
   "metadata": {},
   "outputs": [
    {
     "data": {
      "text/plain": [
       "<re.Match object; span=(6, 10), match='bana'>"
      ]
     },
     "execution_count": 25,
     "metadata": {},
     "output_type": "execute_result"
    }
   ],
   "source": [
    "# match b followed by 3 of any character\n",
    "re.search(r\"b.{3}\", \"hello bananarama pajama\")"
   ]
  },
  {
   "cell_type": "code",
   "execution_count": 26,
   "id": "2c92a9cc",
   "metadata": {},
   "outputs": [
    {
     "data": {
      "text/plain": [
       "<re.Match object; span=(6, 17), match='bananarama '>"
      ]
     },
     "execution_count": 26,
     "metadata": {},
     "output_type": "execute_result"
    }
   ],
   "source": [
    "re.search(r\"b.* \", \"hello bananarama pajama\")"
   ]
  },
  {
   "cell_type": "code",
   "execution_count": 27,
   "id": "d5adfa7f",
   "metadata": {},
   "outputs": [
    {
     "data": {
      "text/plain": [
       "<re.Match object; span=(0, 1), match='h'>"
      ]
     },
     "execution_count": 27,
     "metadata": {},
     "output_type": "execute_result"
    }
   ],
   "source": [
    "# [^abc] as \"anything that ain't a or b or c\"\n",
    "re.search(r\"[^b]\", \"hello bananarama pajama\")"
   ]
  },
  {
   "cell_type": "code",
   "execution_count": 28,
   "id": "74e29aaf",
   "metadata": {},
   "outputs": [],
   "source": [
    "# let's find something that starts with a then has any number of other characters\n",
    "re.search(r\"^a.*\", \"hello bananarama pajama\")"
   ]
  },
  {
   "cell_type": "code",
   "execution_count": 29,
   "id": "1bd5da00",
   "metadata": {},
   "outputs": [
    {
     "data": {
      "text/plain": [
       "<re.Match object; span=(6, 23), match='bananarama pajama'>"
      ]
     },
     "execution_count": 29,
     "metadata": {},
     "output_type": "execute_result"
    }
   ],
   "source": [
    "re.search(r\"ban.*\", \"hello bananarama pajama\")"
   ]
  },
  {
   "cell_type": "code",
   "execution_count": 30,
   "id": "6fa16056",
   "metadata": {},
   "outputs": [
    {
     "data": {
      "text/plain": [
       "<re.Match object; span=(7, 23), match='ananarama pajama'>"
      ]
     },
     "execution_count": 30,
     "metadata": {},
     "output_type": "execute_result"
    }
   ],
   "source": [
    "re.search(r\"a.*\", \"hello bananarama pajama\")"
   ]
  },
  {
   "cell_type": "code",
   "execution_count": 31,
   "id": "36b6267d",
   "metadata": {},
   "outputs": [
    {
     "data": {
      "text/plain": [
       "<re.Match object; span=(0, 11), match='bananarama '>"
      ]
     },
     "execution_count": 31,
     "metadata": {},
     "output_type": "execute_result"
    }
   ],
   "source": [
    "# starts with\n",
    "# anything\n",
    "# ends with \n",
    "re.search(r\"^b.* \", \"bananarama pajama\")"
   ]
  },
  {
   "cell_type": "code",
   "execution_count": 32,
   "id": "61b9b3aa",
   "metadata": {},
   "outputs": [
    {
     "data": {
      "text/plain": [
       "<re.Match object; span=(0, 10), match='bananarama'>"
      ]
     },
     "execution_count": 32,
     "metadata": {},
     "output_type": "execute_result"
    }
   ],
   "source": [
    "# starts with\n",
    "# anything\n",
    "# ends with \n",
    "re.search(r\"^b\\w+\", \"bananarama pajama\")"
   ]
  },
  {
   "cell_type": "code",
   "execution_count": 33,
   "id": "4b2b4fcd",
   "metadata": {},
   "outputs": [
    {
     "data": {
      "text/plain": [
       "<re.Match object; span=(0, 17), match='bananarama pajama'>"
      ]
     },
     "execution_count": 33,
     "metadata": {},
     "output_type": "execute_result"
    }
   ],
   "source": [
    "re.search(r\".*jama$\", \"bananarama pajama\")"
   ]
  },
  {
   "cell_type": "code",
   "execution_count": 34,
   "id": "d302b3f5",
   "metadata": {},
   "outputs": [
    {
     "data": {
      "text/plain": [
       "<re.Match object; span=(0, 10), match='bananarama'>"
      ]
     },
     "execution_count": 34,
     "metadata": {},
     "output_type": "execute_result"
    }
   ],
   "source": [
    "re.search(r\".*rama\", \"bananarama pajama\")"
   ]
  },
  {
   "cell_type": "code",
   "execution_count": 35,
   "id": "e28919dc",
   "metadata": {},
   "outputs": [
    {
     "data": {
      "text/plain": [
       "<re.Match object; span=(0, 1), match='a'>"
      ]
     },
     "execution_count": 35,
     "metadata": {},
     "output_type": "execute_result"
    }
   ],
   "source": [
    "# \\w matches [a-zA-Z0-9_]\n",
    "re.search(r\"\\w\", \"abc123\")"
   ]
  },
  {
   "cell_type": "code",
   "execution_count": 36,
   "id": "85d09b28",
   "metadata": {},
   "outputs": [
    {
     "data": {
      "text/plain": [
       "<re.Match object; span=(0, 5), match='stuff'>"
      ]
     },
     "execution_count": 36,
     "metadata": {},
     "output_type": "execute_result"
    }
   ],
   "source": [
    "# what if we want only letters and not letters + numbers + _ character\n",
    "re.search(r\"[a-zA-Z]*\", \"stuff and things and 123\")"
   ]
  },
  {
   "cell_type": "code",
   "execution_count": 37,
   "id": "d8ffd2c0",
   "metadata": {},
   "outputs": [
    {
     "data": {
      "text/plain": [
       "['stuff', 'a', 'nd', 'things', 'and']"
      ]
     },
     "execution_count": 37,
     "metadata": {},
     "output_type": "execute_result"
    }
   ],
   "source": [
    "# what if we want only letters and not letters + numbers + _ character\n",
    "# the [a-z]+ is finding any and all sequences that are only [a-zA-Z]\n",
    "re.findall(r\"[a-zA-Z]+\", \"42 $stuff a****nd things and 123\")"
   ]
  },
  {
   "cell_type": "code",
   "execution_count": 38,
   "id": "4325d124",
   "metadata": {},
   "outputs": [
    {
     "data": {
      "text/plain": [
       "<re.Match object; span=(0, 3), match='abc'>"
      ]
     },
     "execution_count": 38,
     "metadata": {},
     "output_type": "execute_result"
    }
   ],
   "source": [
    "re.search(r\"\\w\\w\\w\", \"abc123\")"
   ]
  },
  {
   "cell_type": "code",
   "execution_count": 39,
   "id": "3a24431b",
   "metadata": {},
   "outputs": [
    {
     "data": {
      "text/plain": [
       "<re.Match object; span=(0, 6), match='abc123'>"
      ]
     },
     "execution_count": 39,
     "metadata": {},
     "output_type": "execute_result"
    }
   ],
   "source": [
    "re.search(r\"\\w\\w\\w\\w\\w\\w\", \"abc123\")"
   ]
  },
  {
   "cell_type": "code",
   "execution_count": 40,
   "id": "f9517d4e",
   "metadata": {},
   "outputs": [],
   "source": [
    "# seven \\w characters will only match seven of any [a-zA-Z0-9]\n",
    "re.search(r\"\\w\\w\\w\\w\\w\\w\\w\", \"abc123\")"
   ]
  },
  {
   "cell_type": "code",
   "execution_count": 41,
   "id": "aa999c79",
   "metadata": {},
   "outputs": [
    {
     "data": {
      "text/plain": [
       "<re.Match object; span=(0, 12), match='abc123def456'>"
      ]
     },
     "execution_count": 41,
     "metadata": {},
     "output_type": "execute_result"
    }
   ],
   "source": [
    "re.search(r\"\\w*\", \"abc123def456\")"
   ]
  },
  {
   "cell_type": "code",
   "execution_count": 42,
   "id": "97f655bc",
   "metadata": {},
   "outputs": [
    {
     "data": {
      "text/plain": [
       "<re.Match object; span=(0, 3), match='abc'>"
      ]
     },
     "execution_count": 42,
     "metadata": {},
     "output_type": "execute_result"
    }
   ],
   "source": [
    "# curly braces for repetition\n",
    "re.search(r\"\\w{3}\", \"abc123\")"
   ]
  },
  {
   "cell_type": "code",
   "execution_count": 43,
   "id": "1810aaa1",
   "metadata": {},
   "outputs": [
    {
     "data": {
      "text/plain": [
       "<re.Match object; span=(0, 6), match='abc123'>"
      ]
     },
     "execution_count": 43,
     "metadata": {},
     "output_type": "execute_result"
    }
   ],
   "source": [
    "re.search(r\"\\w{1,6}\", \"abc123\")"
   ]
  },
  {
   "cell_type": "code",
   "execution_count": 44,
   "id": "352937ce",
   "metadata": {},
   "outputs": [
    {
     "data": {
      "text/plain": [
       "<re.Match object; span=(0, 6), match='abc123'>"
      ]
     },
     "execution_count": 44,
     "metadata": {},
     "output_type": "execute_result"
    }
   ],
   "source": [
    "# {n,} matches n or more times\n",
    "re.search(r\"\\w{1,}\", \"abc123 is the place to be\")"
   ]
  },
  {
   "cell_type": "code",
   "execution_count": 45,
   "id": "530f0b3e",
   "metadata": {},
   "outputs": [
    {
     "data": {
      "text/plain": [
       "['abc123', 'is', 'the', 'place', 'to', 'be']"
      ]
     },
     "execution_count": 45,
     "metadata": {},
     "output_type": "execute_result"
    }
   ],
   "source": [
    "# {n,} matches n or more times\n",
    "re.findall(r\"\\w{1,}\", \"abc123 is the place to be\")"
   ]
  },
  {
   "cell_type": "code",
   "execution_count": 46,
   "id": "2b2afd0b",
   "metadata": {},
   "outputs": [
    {
     "data": {
      "text/plain": [
       "['abc123', 'is', 'the', 'place', 'to', 'be', 'banara', 'mapaja', 'ma']"
      ]
     },
     "execution_count": 46,
     "metadata": {},
     "output_type": "execute_result"
    }
   ],
   "source": [
    "# {n,} matches n or more times\n",
    "re.findall(r\"\\w{1,6}\", \"abc123 is the place to be banaramapajama\")"
   ]
  },
  {
   "cell_type": "code",
   "execution_count": 47,
   "id": "73f7817a",
   "metadata": {},
   "outputs": [
    {
     "data": {
      "text/plain": [
       "['abc123 ', 'is ', 'the ', 'place ', 'to ', 'be ']"
      ]
     },
     "execution_count": 47,
     "metadata": {},
     "output_type": "execute_result"
    }
   ],
   "source": [
    "# {n,} matches n or more times\n",
    "# space after the 1-6 alphanumeric \\w matches\n",
    "re.findall(r\"\\w{1,6} \", \"abc123 is the place to be banaramapajama\")"
   ]
  },
  {
   "cell_type": "code",
   "execution_count": 48,
   "id": "5bca7a90",
   "metadata": {},
   "outputs": [
    {
     "data": {
      "text/plain": [
       "<re.Match object; span=(0, 6), match='abc123'>"
      ]
     },
     "execution_count": 48,
     "metadata": {},
     "output_type": "execute_result"
    }
   ],
   "source": [
    "# {n,} matches n or more times\n",
    "re.search(r\"\\w{1,6}\", \"abc123 is the place to be banaramapajama\")"
   ]
  },
  {
   "cell_type": "code",
   "execution_count": 49,
   "id": "f21315ca",
   "metadata": {},
   "outputs": [
    {
     "data": {
      "text/plain": [
       "<re.Match object; span=(0, 6), match='abc123'>"
      ]
     },
     "execution_count": 49,
     "metadata": {},
     "output_type": "execute_result"
    }
   ],
   "source": [
    "# {n,} matches n or more times\n",
    "re.search(r\"\\w{2,6}\", \"abc123\")"
   ]
  },
  {
   "cell_type": "code",
   "execution_count": 50,
   "id": "3dddeaa7",
   "metadata": {},
   "outputs": [
    {
     "data": {
      "text/plain": [
       "['abc123', 'is', 'the', 'place', 'to', 'be']"
      ]
     },
     "execution_count": 50,
     "metadata": {},
     "output_type": "execute_result"
    }
   ],
   "source": [
    "# r\"\\w+\" is the same as r\"\\w{1,}\"\n",
    "re.findall(r\"\\w+\", \"abc123 is the place to be\")"
   ]
  },
  {
   "cell_type": "code",
   "execution_count": 51,
   "id": "d530fddb",
   "metadata": {},
   "outputs": [
    {
     "data": {
      "text/plain": [
       "<re.Match object; span=(0, 8), match='226-3232'>"
      ]
     },
     "execution_count": 51,
     "metadata": {},
     "output_type": "execute_result"
    }
   ],
   "source": [
    "# 3 digits then a single character of any then 4 digits\n",
    "re.search(r\"[0-9]{3}.[0-9]{4}\", \"226-3232\")"
   ]
  },
  {
   "cell_type": "code",
   "execution_count": 52,
   "id": "e722502f",
   "metadata": {},
   "outputs": [
    {
     "data": {
      "text/plain": [
       "<re.Match object; span=(0, 8), match='226.3232'>"
      ]
     },
     "execution_count": 52,
     "metadata": {},
     "output_type": "execute_result"
    }
   ],
   "source": [
    "# 3 digits then a single character of any then 4 digits\n",
    "re.search(r\"[0-9]{3}.[0-9]{4}\", \"226.3232\")"
   ]
  },
  {
   "cell_type": "code",
   "execution_count": 53,
   "id": "08e90387",
   "metadata": {},
   "outputs": [],
   "source": [
    "# What if the delimiter is optional?\n",
    "# question mark metacharacter means the thing to the left of the ? is optional\n",
    "re.search(r\"[0-9]{3}.[0-9]{4}\", \"2263232\")\n"
   ]
  },
  {
   "cell_type": "code",
   "execution_count": 54,
   "id": "30a1a6ec",
   "metadata": {},
   "outputs": [
    {
     "data": {
      "text/plain": [
       "<re.Match object; span=(0, 7), match='2263232'>"
      ]
     },
     "execution_count": 54,
     "metadata": {},
     "output_type": "execute_result"
    }
   ],
   "source": [
    "# What if the delimiter is optional?\n",
    "# question mark metacharacter means the thing to the left of the ? is optional\n",
    "re.search(r\"[0-9]{3}.?[0-9]{4}\", \"2263232\")\n"
   ]
  },
  {
   "cell_type": "code",
   "execution_count": 55,
   "id": "be45f6d7",
   "metadata": {},
   "outputs": [
    {
     "data": {
      "text/plain": [
       "<re.Match object; span=(0, 8), match='226-3232'>"
      ]
     },
     "execution_count": 55,
     "metadata": {},
     "output_type": "execute_result"
    }
   ],
   "source": [
    "re.search(r\"[0-9]{3}.?[0-9]{4}\", \"226-3232\")\n"
   ]
  },
  {
   "cell_type": "code",
   "execution_count": 56,
   "id": "9e45513d",
   "metadata": {},
   "outputs": [
    {
     "data": {
      "text/plain": [
       "<re.Match object; span=(0, 7), match='2263232'>"
      ]
     },
     "execution_count": 56,
     "metadata": {},
     "output_type": "execute_result"
    }
   ],
   "source": [
    "re.search(r\"[0-9]{3}.?[0-9]{4}\", \"2263232\")"
   ]
  },
  {
   "cell_type": "markdown",
   "id": "95a06a11",
   "metadata": {},
   "source": [
    "## Using a RegEx pattern to split a string\n",
    "- The `re.split` method returns a list of strings\n",
    "- The matching substring is removed\n",
    "- We can split on any regex pattern, not only character literals"
   ]
  },
  {
   "cell_type": "code",
   "execution_count": 57,
   "id": "bfe7f60f",
   "metadata": {},
   "outputs": [
    {
     "data": {
      "text/plain": [
       "['210', '226', '3232']"
      ]
     },
     "execution_count": 57,
     "metadata": {},
     "output_type": "execute_result"
    }
   ],
   "source": [
    "\"210-226-3232\".split(\"-\")"
   ]
  },
  {
   "cell_type": "code",
   "execution_count": 58,
   "id": "62abee0c",
   "metadata": {},
   "outputs": [
    {
     "data": {
      "text/plain": [
       "['210', '226', '3232']"
      ]
     },
     "execution_count": 58,
     "metadata": {},
     "output_type": "execute_result"
    }
   ],
   "source": [
    "# Split the phone number on the\n",
    "re.split(r\"-| \", \"210 226 3232\")"
   ]
  },
  {
   "cell_type": "code",
   "execution_count": 59,
   "id": "c1d7b632",
   "metadata": {
    "scrolled": true
   },
   "outputs": [
    {
     "data": {
      "text/plain": [
       "['210', '226', '3232']"
      ]
     },
     "execution_count": 59,
     "metadata": {},
     "output_type": "execute_result"
    }
   ],
   "source": [
    "# Split the phone number on the\n",
    "re.split(r\"-| \", \"210-226-3232\")"
   ]
  },
  {
   "cell_type": "code",
   "execution_count": 60,
   "id": "d9a51e9e",
   "metadata": {
    "scrolled": true
   },
   "outputs": [
    {
     "data": {
      "text/plain": [
       "['this', 'that', 'and', 'the', 'other']"
      ]
     },
     "execution_count": 60,
     "metadata": {},
     "output_type": "execute_result"
    }
   ],
   "source": [
    "# Splits the string on the space character\n",
    "# The \\ is necessary\n",
    "re.split(r\" \", \"this that and the other\")"
   ]
  },
  {
   "cell_type": "code",
   "execution_count": 61,
   "id": "7d20cf95",
   "metadata": {},
   "outputs": [
    {
     "data": {
      "text/plain": [
       "\"Harry_Belafonte_-_Jump_In_the_Line.mp3,Willie_Mae_'Big_Mama'_Thornton_-_Hound_Dog.mp3,Tina_Turner_-_Proud_Mary.mp3,Prince_-_Purple_Rain.mp3\""
      ]
     },
     "execution_count": 61,
     "metadata": {},
     "output_type": "execute_result"
    }
   ],
   "source": [
    "# Parse these songs into a dataframe containing 2 columns: artist_name and song_name\n",
    "# Hint: break the string into an array of strings that hold each song/artist record\n",
    "songs = \"Harry_Belafonte_-_Jump_In_the_Line.mp3,Willie_Mae_'Big_Mama'_Thornton_-_Hound_Dog.mp3,Tina_Turner_-_Proud_Mary.mp3,Prince_-_Purple_Rain.mp3\"\n",
    "songs"
   ]
  },
  {
   "cell_type": "code",
   "execution_count": 62,
   "id": "25b838c5",
   "metadata": {},
   "outputs": [],
   "source": [
    "# re.method(pattern, subject_string, re.IGNORECASE)\n",
    "\n",
    "# re.split\n",
    "# re.search\n",
    "# re.findall"
   ]
  },
  {
   "cell_type": "markdown",
   "id": "f5636e9d",
   "metadata": {},
   "source": [
    "## [Character Classes]\n",
    "- Square brackets make character classes \n",
    "- Character classes provide OR behavior\n",
    "- In a character classe, `^` works as a \"None of\" operator\n",
    "- Metacharacters match their literal character when inside of square brackets for a character class"
   ]
  },
  {
   "cell_type": "code",
   "execution_count": 63,
   "id": "adae9f5b",
   "metadata": {},
   "outputs": [
    {
     "data": {
      "text/plain": [
       "<re.Match object; span=(1, 2), match='a'>"
      ]
     },
     "execution_count": 63,
     "metadata": {},
     "output_type": "execute_result"
    }
   ],
   "source": [
    "# has a vowel, anywhere\n",
    "re.search(r\"[aeiou]\", \"banana\", re.IGNORECASE)"
   ]
  },
  {
   "cell_type": "code",
   "execution_count": 64,
   "id": "65d0890d",
   "metadata": {},
   "outputs": [
    {
     "data": {
      "text/plain": [
       "['gray', 'grey']"
      ]
     },
     "execution_count": 64,
     "metadata": {},
     "output_type": "execute_result"
    }
   ],
   "source": [
    "# The parentheses around \n",
    "re.findall(r\"gr[ae]y\", \"Some people spell gray like grey\")"
   ]
  },
  {
   "cell_type": "code",
   "execution_count": 65,
   "id": "0cd12b75",
   "metadata": {},
   "outputs": [
    {
     "data": {
      "text/plain": [
       "<re.Match object; span=(1, 2), match='a'>"
      ]
     },
     "execution_count": 65,
     "metadata": {},
     "output_type": "execute_result"
    }
   ],
   "source": [
    "# has a vowel, anywhere\n",
    "\n",
    "re.search(r\"a|e|i|o|u\", \"banana\", re.IGNORECASE)"
   ]
  },
  {
   "cell_type": "code",
   "execution_count": 66,
   "id": "82c4a682",
   "metadata": {},
   "outputs": [
    {
     "data": {
      "text/plain": [
       "<re.Match object; span=(0, 1), match='a'>"
      ]
     },
     "execution_count": 66,
     "metadata": {},
     "output_type": "execute_result"
    }
   ],
   "source": [
    "# Is only a single vowel\n",
    "\n",
    "re.search(r\"^[aeiou]{1}$\", \"a\", re.IGNORECASE)"
   ]
  },
  {
   "cell_type": "code",
   "execution_count": 67,
   "id": "8da31325",
   "metadata": {},
   "outputs": [],
   "source": [
    "# is only a single vowel\n",
    "re.search(r\"^[aeiou]{1}$\", \"ae\", re.IGNORECASE)"
   ]
  },
  {
   "cell_type": "code",
   "execution_count": 68,
   "id": "20a89121",
   "metadata": {},
   "outputs": [
    {
     "data": {
      "text/plain": [
       "<re.Match object; span=(0, 7), match='aaeeeaa'>"
      ]
     },
     "execution_count": 68,
     "metadata": {},
     "output_type": "execute_result"
    }
   ],
   "source": [
    "# is only vowels\n",
    "re.search(r\"^[aeiou]*$\", \"aaeeeaa\")"
   ]
  },
  {
   "cell_type": "code",
   "execution_count": 69,
   "id": "f9c8080d",
   "metadata": {},
   "outputs": [
    {
     "data": {
      "text/plain": [
       "<re.Match object; span=(4, 5), match='q'>"
      ]
     },
     "execution_count": 69,
     "metadata": {},
     "output_type": "execute_result"
    }
   ],
   "source": [
    "# has a p or q, anywhere\n",
    "re.search(r\"p|q\", \"albuquerque\", re.IGNORECASE)"
   ]
  },
  {
   "cell_type": "code",
   "execution_count": 70,
   "id": "f6bc7a67",
   "metadata": {},
   "outputs": [
    {
     "data": {
      "text/plain": [
       "<re.Match object; span=(4, 5), match='q'>"
      ]
     },
     "execution_count": 70,
     "metadata": {},
     "output_type": "execute_result"
    }
   ],
   "source": [
    "# has a p or q, anywhere\n",
    "re.search(r\"[pq]\", \"albuquerque\", re.IGNORECASE)"
   ]
  },
  {
   "cell_type": "code",
   "execution_count": 71,
   "id": "83c9d632",
   "metadata": {},
   "outputs": [
    {
     "data": {
      "text/plain": [
       "<re.Match object; span=(0, 1), match='q'>"
      ]
     },
     "execution_count": 71,
     "metadata": {},
     "output_type": "execute_result"
    }
   ],
   "source": [
    "# is p or q\n",
    "re.search(r\"^[pq]{1}$\", \"q\", re.IGNORECASE)"
   ]
  },
  {
   "cell_type": "code",
   "execution_count": 72,
   "id": "6cd6f169",
   "metadata": {},
   "outputs": [
    {
     "data": {
      "text/plain": [
       "<re.Match object; span=(0, 17), match='pqpqpqpPQQQQQQQQp'>"
      ]
     },
     "execution_count": 72,
     "metadata": {},
     "output_type": "execute_result"
    }
   ],
   "source": [
    "# is only Ps and Qs\n",
    "re.search(r\"^[pqPQ]*$\", \"pqpqpqpPQQQQQQQQp\")"
   ]
  },
  {
   "cell_type": "code",
   "execution_count": 73,
   "id": "111cc9f3",
   "metadata": {},
   "outputs": [],
   "source": [
    "re.search(r\"^[pq]*$\", \"b3qwpeop\")"
   ]
  },
  {
   "cell_type": "code",
   "execution_count": 74,
   "id": "b44277a2",
   "metadata": {},
   "outputs": [
    {
     "data": {
      "text/plain": [
       "['civil blood', 'civil hands']"
      ]
     },
     "execution_count": 74,
     "metadata": {},
     "output_type": "execute_result"
    }
   ],
   "source": [
    "string = \"Two households, both alike in dignity, In fair Verona, where we lay our scene, From ancient grudge break to new mutiny, Where civil blood makes civil hands unclean.\"\n",
    "string\n",
    "\n",
    "# find all the occurences of civil followed by the word immediately after \"civil\"\n",
    "re.findall(r\"civil\\s[a-z]+\", string)\n"
   ]
  },
  {
   "cell_type": "markdown",
   "id": "b345d70f",
   "metadata": {},
   "source": [
    "## Repetition characters and Special Sequences\n",
    "> Walk before you run\n",
    "\n",
    "- `.` means any single character\n",
    "- `*` means zero or more characters\n",
    "- `+` means one or more characters\n",
    "- `.` matches any character\n",
    "- `\\b` is a word boundary anchor\n",
    "- `\\d` matches any decimal. Is equivalent to `[0-9]`\n",
    "- `\\D` matches any non-digit character and is equivalent to `[^0-9]`. \n",
    "- `\\s` matches any white space like ` `, tab, soft return, new line etc...\n",
    "- `\\w` matches any alphanumeric character and underscore. Equivalent to `[0-9a-zA-Z_]`\n",
    "- `\\W` matches any non-alphanumeric character. Equivalent to `[^a-zA-Z0-9_]`\n",
    "- `{n)` exactly n characters\n",
    "- `{n,}` n or more characters\n",
    "- `{n, m}` n to m times"
   ]
  },
  {
   "cell_type": "code",
   "execution_count": 75,
   "id": "468da022",
   "metadata": {},
   "outputs": [
    {
     "data": {
      "text/plain": [
       "<re.Match object; span=(4, 6), match='ou'>"
      ]
     },
     "execution_count": 75,
     "metadata": {},
     "output_type": "execute_result"
    }
   ],
   "source": [
    "# world w/o \\b word boundary\n",
    "re.search(r\"o\\w+\", \"do you like apples or oranges?\")"
   ]
  },
  {
   "cell_type": "code",
   "execution_count": 76,
   "id": "264002e1",
   "metadata": {},
   "outputs": [
    {
     "data": {
      "text/plain": [
       "<re.Match object; span=(19, 21), match='or'>"
      ]
     },
     "execution_count": 76,
     "metadata": {},
     "output_type": "execute_result"
    }
   ],
   "source": [
    "# \\b means word boundary\n",
    "# any word that starts with o\n",
    "re.search(r\"\\bo\\w+\", \"do you like apples or oranges?\")"
   ]
  },
  {
   "cell_type": "code",
   "execution_count": 77,
   "id": "54d4bf68",
   "metadata": {},
   "outputs": [
    {
     "data": {
      "text/plain": [
       "['or', 'oranges']"
      ]
     },
     "execution_count": 77,
     "metadata": {},
     "output_type": "execute_result"
    }
   ],
   "source": [
    "# \\b means word boundary\n",
    "# any word that starts with o\n",
    "re.findall(r\"\\bo\\w+\", \"do you like apples or oranges?\")"
   ]
  },
  {
   "cell_type": "code",
   "execution_count": 78,
   "id": "3eb3f4cf",
   "metadata": {},
   "outputs": [
    {
     "data": {
      "text/plain": [
       "['ou', 'or', 'oranges']"
      ]
     },
     "execution_count": 78,
     "metadata": {},
     "output_type": "execute_result"
    }
   ],
   "source": [
    "# \\b means word boundary\n",
    "# any word that starts with o\n",
    "# without the word boundary, we get the \"ou\" from \"you\"\n",
    "re.findall(r\"o\\w+\", \"do you like apples or oranges?\")"
   ]
  },
  {
   "cell_type": "code",
   "execution_count": 79,
   "id": "8a541d17",
   "metadata": {},
   "outputs": [
    {
     "data": {
      "text/plain": [
       "['or', 'oranges']"
      ]
     },
     "execution_count": 79,
     "metadata": {},
     "output_type": "execute_result"
    }
   ],
   "source": [
    "# \\b means word boundary\n",
    "# any word that starts with o\n",
    "re.findall(r\"\\bo\\w+\", \"do you like apples or oranges?\")"
   ]
  },
  {
   "cell_type": "markdown",
   "id": "2f162b03",
   "metadata": {},
   "source": [
    "## Groups"
   ]
  },
  {
   "cell_type": "code",
   "execution_count": 80,
   "id": "cfcf953d",
   "metadata": {},
   "outputs": [
    {
     "data": {
      "text/plain": [
       "'You can find us on the web at https://codeup.com. Our ip address is 123.123.123.123 (maybe).'"
      ]
     },
     "execution_count": 80,
     "metadata": {},
     "output_type": "execute_result"
    }
   ],
   "source": [
    "sentence = '''\n",
    "You can find us on the web at https://codeup.com. Our ip address is 123.123.123.123 (maybe).\n",
    "'''.strip()\n",
    "sentence"
   ]
  },
  {
   "cell_type": "code",
   "execution_count": 81,
   "id": "dbadbaa0",
   "metadata": {},
   "outputs": [
    {
     "data": {
      "text/plain": [
       "'123.123.123.123'"
      ]
     },
     "execution_count": 81,
     "metadata": {},
     "output_type": "execute_result"
    }
   ],
   "source": [
    "ip_re = r'\\d+(\\.\\d+){3}'\n",
    "\n",
    "match = re.search(ip_re, sentence)\n",
    "match[0]"
   ]
  },
  {
   "cell_type": "code",
   "execution_count": 82,
   "id": "24f63b18",
   "metadata": {},
   "outputs": [
    {
     "name": "stdout",
     "output_type": "stream",
     "text": [
      "\n",
      "protocol: https\n",
      "domain:   codeup\n",
      "tld:      com\n",
      "\n"
     ]
    }
   ],
   "source": [
    "# simplified for demonstration, a real url to parse urls would be much more\n",
    "# complex\n",
    "url_re = r'(https?)://(\\w+)\\.(\\w+)'\n",
    "\n",
    "protocol, domain, tld = re.search(url_re, sentence).groups()\n",
    "\n",
    "print(f'''\n",
    "protocol: {protocol}\n",
    "domain:   {domain}\n",
    "tld:      {tld}\n",
    "''')"
   ]
  },
  {
   "cell_type": "code",
   "execution_count": 83,
   "id": "d1767cbd",
   "metadata": {},
   "outputs": [
    {
     "data": {
      "text/plain": [
       "('https', 'codeup', 'com')"
      ]
     },
     "execution_count": 83,
     "metadata": {},
     "output_type": "execute_result"
    }
   ],
   "source": [
    "re.search(url_re, sentence).groups()"
   ]
  },
  {
   "cell_type": "code",
   "execution_count": 84,
   "id": "a47a6c59",
   "metadata": {},
   "outputs": [],
   "source": [
    "url_re = r'(?P<protocol>https?)://(?P<domain>\\w+)\\.(?P<tld>\\w+)'\n",
    "\n",
    "match = re.search(url_re, sentence)\n"
   ]
  },
  {
   "cell_type": "code",
   "execution_count": 85,
   "id": "0f89e89a",
   "metadata": {},
   "outputs": [
    {
     "data": {
      "text/plain": [
       "('https', 'codeup', 'com')"
      ]
     },
     "execution_count": 85,
     "metadata": {},
     "output_type": "execute_result"
    }
   ],
   "source": [
    "match.groups()"
   ]
  },
  {
   "cell_type": "code",
   "execution_count": 86,
   "id": "905d5d55",
   "metadata": {},
   "outputs": [
    {
     "data": {
      "text/plain": [
       "'codeup'"
      ]
     },
     "execution_count": 86,
     "metadata": {},
     "output_type": "execute_result"
    }
   ],
   "source": [
    "match.group(\"domain\")"
   ]
  },
  {
   "cell_type": "code",
   "execution_count": 87,
   "id": "1562d114",
   "metadata": {},
   "outputs": [
    {
     "data": {
      "text/plain": [
       "'com'"
      ]
     },
     "execution_count": 87,
     "metadata": {},
     "output_type": "execute_result"
    }
   ],
   "source": [
    "match.group(\"tld\")"
   ]
  },
  {
   "cell_type": "code",
   "execution_count": 88,
   "id": "36c4ed51",
   "metadata": {},
   "outputs": [
    {
     "data": {
      "text/plain": [
       "{'protocol': 'https', 'domain': 'codeup', 'tld': 'com'}"
      ]
     },
     "execution_count": 88,
     "metadata": {},
     "output_type": "execute_result"
    }
   ],
   "source": [
    "match.groupdict()"
   ]
  },
  {
   "cell_type": "code",
   "execution_count": 89,
   "id": "bdf206b7",
   "metadata": {},
   "outputs": [
    {
     "name": "stdout",
     "output_type": "stream",
     "text": [
      "\n",
      "groups: ('https', 'codeup', 'com')\n",
      "referencing a group by name: com\n",
      "group dictionary: {'protocol': 'https', 'domain': 'codeup', 'tld': 'com'}\n",
      "\n"
     ]
    }
   ],
   "source": [
    "print(f'''\n",
    "groups: {match.groups()}\n",
    "referencing a group by name: {match.group('tld')}\n",
    "group dictionary: {match.groupdict()}\n",
    "''')"
   ]
  },
  {
   "cell_type": "markdown",
   "id": "5cced33b",
   "metadata": {},
   "source": [
    "## A Reflection on Captured Groups\n",
    "- After matching the first group or two, the need to be _highly_ specific with subsequent groups (unless there is ambiguity in the forms in the source text) likely starts to decrease. \n",
    "- For example, matching an abitrary user agent string in on its own might prove challenging. Specific user agents even more so https://jonlabelle.com/snippets/view/yaml/browser-user-agent-regular-expressions. But if that arbitrary user agent string lives in a line inside a log where to the left we've already matched a group for the method type GET|POST, and the timestamp, then matching any specific user agent string with the cleanest regex ever isn't as necessary, probabilistically, as matching any string up until but not including the bytes transmitted group to its right.\n",
    "- We can sometimes rely on the regularness of forms, especially with multiple captured groups in order to capture much more challenging patterns in the middle of other more easily discerned pattern groups."
   ]
  },
  {
   "cell_type": "code",
   "execution_count": 3,
   "id": "e9ae04ef",
   "metadata": {},
   "outputs": [
    {
     "name": "stdout",
     "output_type": "stream",
     "text": [
      "\n",
      "GET /api/v1/sales?page=86 [16/Apr/2019:193452+0000] HTTP/1.1 {200} 510348 \"python-requests/2.21.0\" 97.105.19.58\n",
      "POST /users_accounts/file-upload [16/Apr/2019:193452+0000] HTTP/1.1 {201} 42 \"User-Agent: Mozilla/5.0 (X11; Fedora; Fedora; Linux x86_64) AppleWebKit/537.36 (KHTML, like Gecko) Chrome/73.0.3683.86 Safari/537.36\" 97.105.19.58\n",
      "GET /api/v1/items?page=3 [16/Apr/2019:193453+0000] HTTP/1.1 {429} 3561 \"python-requests/2.21.0\" 97.105.19.58\n",
      "\n"
     ]
    }
   ],
   "source": [
    "# Consider the following lines in a log\n",
    "logs = \"\"\"\n",
    "GET /api/v1/sales?page=86 [16/Apr/2019:193452+0000] HTTP/1.1 {200} 510348 \"python-requests/2.21.0\" 97.105.19.58\n",
    "POST /users_accounts/file-upload [16/Apr/2019:193452+0000] HTTP/1.1 {201} 42 \"User-Agent: Mozilla/5.0 (X11; Fedora; Fedora; Linux x86_64) AppleWebKit/537.36 (KHTML, like Gecko) Chrome/73.0.3683.86 Safari/537.36\" 97.105.19.58\n",
    "GET /api/v1/items?page=3 [16/Apr/2019:193453+0000] HTTP/1.1 {429} 3561 \"python-requests/2.21.0\" 97.105.19.58\n",
    "\"\"\"\n",
    "print(logs)"
   ]
  },
  {
   "cell_type": "code",
   "execution_count": 99,
   "id": "cca802b8",
   "metadata": {},
   "outputs": [],
   "source": [
    "emails = [\n",
    "    \"jane@company.com\",\n",
    "    \"bob@company.com\",\n",
    "    \"jane.janeway@company.com\",\n",
    "    \"jane.janeway@dogood.org\",\n",
    "#     \"jane.janet.janeway@dogood.org\",\n",
    "#     \"jane.janeway@ang.af.mil\",\n",
    "]"
   ]
  },
  {
   "cell_type": "code",
   "execution_count": 112,
   "id": "4236488b",
   "metadata": {},
   "outputs": [],
   "source": [
    "pattern = re.compile(r\"\"\"\n",
    "(?P<first_name>\\w+)?\n",
    "\\.?\n",
    "(?P<last_name>\\w+)?\n",
    "\\@\n",
    "(?P<domain>\\w+)\n",
    "\\.\n",
    "(?P<tld>\\w+)\n",
    "\"\"\", re.VERBOSE)"
   ]
  },
  {
   "cell_type": "code",
   "execution_count": 113,
   "id": "5ed7172d",
   "metadata": {},
   "outputs": [
    {
     "data": {
      "text/plain": [
       "[{'first_name': 'jane', 'last_name': None, 'domain': 'company', 'tld': 'com'},\n",
       " {'first_name': 'bob', 'last_name': None, 'domain': 'company', 'tld': 'com'},\n",
       " {'first_name': 'jane',\n",
       "  'last_name': 'janeway',\n",
       "  'domain': 'company',\n",
       "  'tld': 'com'},\n",
       " {'first_name': 'jane',\n",
       "  'last_name': 'janeway',\n",
       "  'domain': 'dogood',\n",
       "  'tld': 'org'}]"
      ]
     },
     "execution_count": 113,
     "metadata": {},
     "output_type": "execute_result"
    }
   ],
   "source": [
    "[re.search(pattern, email).groupdict() for email in emails]"
   ]
  },
  {
   "cell_type": "code",
   "execution_count": null,
   "id": "146df5a9",
   "metadata": {},
   "outputs": [],
   "source": []
  }
 ],
 "metadata": {
  "kernelspec": {
   "display_name": "Python 3 (ipykernel)",
   "language": "python",
   "name": "python3"
  },
  "language_info": {
   "codemirror_mode": {
    "name": "ipython",
    "version": 3
   },
   "file_extension": ".py",
   "mimetype": "text/x-python",
   "name": "python",
   "nbconvert_exporter": "python",
   "pygments_lexer": "ipython3",
   "version": "3.8.12"
  }
 },
 "nbformat": 4,
 "nbformat_minor": 5
}
