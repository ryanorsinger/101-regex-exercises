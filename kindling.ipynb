{
 "cells": [
  {
   "cell_type": "markdown",
   "id": "9283fa46",
   "metadata": {},
   "source": [
    "# Meet Regular Expressions\n",
    "\n",
    "## What?\n",
    "- Regular expressions (called regexes or regex patterns) are a tiny language for dealing with text and character patterns.\n",
    "- With RegEx patterns we can:\n",
    "    - Does this string match a pattern?\n",
    "    - Is there a match for the pattern anywhere in the string?\n",
    "    - Modify + split strings in various ways\n",
    "    \n",
    "re library functions\n",
    "- `re.search` scans through a string, looking for any location where the RE matches.\n",
    "- `re.findall` Finds all substrings where the RE matches; returns a list.\n",
    "- `re.split` splits a string on a given regex pattern, removing that pattern. The result is a list of a strings.\n",
    "- `re.sub` allows us to match a regex and substitute in a new substring for the match.\n",
    "\n",
    "\n",
    "## So What?\n",
    "- Power + precision\n",
    "    - Cost is learning something new and potentially unfamiliar.\n",
    "    - Payoff is a language that works with any other programming language to operate on text and character patterns.\n",
    "- Regular Expressions are cross platform and available in many programming languages and environments:\n",
    "    - Command line tools (Linux, Windows, Mac, etc...)\n",
    "    - Python\n",
    "    - SQL flavors offer RegEx\n",
    "    - Java (Scala/Clojure)\n",
    "    - Other languages like Julia, Ruby, PHP, C#, etc...\n",
    "    - Like SQL, there are differences between some of the different RegEx implementations, but if you know your RegEx, you can bring value in many environments.\n",
    "\n",
    "## When is RegEx the right tool or wrong tool?\n",
    "- If you can solve the problem with built-in string methods in your language, do so.\n",
    "- If you need more capability than built-in string methods\n",
    "- If you're parsing HTML, JSON, or XML, use a tool built for those formats. Regex + html/json = don't\n",
    "\n",
    "## Now What?\n",
    "- We'll start simple by writing regex patterns to match literal characters.\n",
    "- Then we will introduce metacharacters, that have special meaning and functionality.\n",
    "\n",
    "## Key Concepts\n",
    "- The RegEx metacharacters `. ^ $ * + ? { } [ ] \\ | ( )` have special meanings. \n",
    "- Square brackets create a \"character class\". \n",
    "    - Character classes allow us to specify many OR operations\n",
    "    - For example, `r\"[aeiou]\"` matches any lowercase vowel character. Identical to `r\"a|e|i|o|u\"`\n",
    "    - `r\"[a-z]\"` matches lowercase a through z.\n",
    "- Metacharacters are not active inside of the character class square brackets `[]`\n",
    "- Outside of the character class `[]`, if you need to match a metacharacter character literally, you will need to put a `\\` in front of that character. `r\"\\+\"` will match the literal `+` character.\n",
    "- RegEx has characters for special sequences:\n",
    "    - `.` matches any character\n",
    "    - `\\d` matches any numeral. Is equivalent to `[0-9]`\n",
    "    - `\\D` matches any non-digit character and is equivalent to `[^0-9]`. \n",
    "    - `\\s` matches any white space like ` `, tab, soft return, new line etc...\n",
    "    - `\\w` matches any alphanumeric character and underscore. Equivalent to `[0-9a-zA-Z_]`\n",
    "    - `\\W` matches any non-alphanumeric character. Equivalent to `[^a-zA-Z0-9_]`\n",
    "- `.` Matches any character\n",
    "- Repetition:\n",
    "    - `*` matches zero or more of the previous pattern\n",
    "    - `+` matches 1 or more of the previous pattern\n",
    "- `?` after a pattern means that pattern is optional\n",
    "- Not - `[^abc]` matches anything but \"a\" or \"b\" or \"c\"\n",
    "- Anchors\n",
    "    - `^` start\n",
    "    - `$` end\n",
    "    - `\\b` word boundary\n",
    "- Groups\n",
    "    - `(a)`\n",
    "\n",
    "## How Deep Does RegEx go?\n",
    "- For challenging strings to match, like email addresses, recommend using pre-built RegEx specifications like  the HTML specification at https://html.spec.whatwg.org/multipage/forms.html#valid-e-mail-address\n",
    "- With known, good, and proven RegEx patterns like these, you don't need to reinvent things.\n",
    "- ```r\"^[a-zA-Z0-9.!#$%&'*+/=?^_`{|}~-]+@[a-zA-Z0-9](?:[a-zA-Z0-9-]{0,61}[a-zA-Z0-9])?(?:\\.[a-zA-Z0-9](?:[a-zA-Z0-9-]{0,61}[a-zA-Z0-9])?)*$\"```\n"
   ]
  },
  {
   "cell_type": "code",
   "execution_count": 1,
   "id": "fdb0df63",
   "metadata": {},
   "outputs": [],
   "source": [
    "import re"
   ]
  },
  {
   "cell_type": "markdown",
   "id": "935082af",
   "metadata": {},
   "source": [
    "### Patterns to Match Literals \n",
    "> Crawl before you walk"
   ]
  },
  {
   "cell_type": "code",
   "execution_count": 2,
   "id": "f795d9a2",
   "metadata": {
    "scrolled": true
   },
   "outputs": [
    {
     "data": {
      "text/plain": [
       "'Two households, both alike in dignity, In fair Verona, where we lay our scene, From ancient grudge break to new mutiny, Where civil blood makes civil hands unclean.'"
      ]
     },
     "execution_count": 2,
     "metadata": {},
     "output_type": "execute_result"
    }
   ],
   "source": [
    "string = \"Two households, both alike in dignity, In fair Verona, where we lay our scene, From ancient grudge break to new mutiny, Where civil blood makes civil hands unclean.\"\n",
    "string"
   ]
  },
  {
   "cell_type": "code",
   "execution_count": 5,
   "id": "ddfcd68e",
   "metadata": {},
   "outputs": [
    {
     "data": {
      "text/plain": [
       "<re.Match object; span=(47, 53), match='Verona'>"
      ]
     },
     "execution_count": 5,
     "metadata": {},
     "output_type": "execute_result"
    }
   ],
   "source": [
    "# We can search for a literal match of the string Verona\n",
    "# re.search(r\"pattern\", \"our subject\")\n",
    "x = re.search(r\"Verona\", string)\n",
    "x"
   ]
  },
  {
   "cell_type": "code",
   "execution_count": 6,
   "id": "34c0736d",
   "metadata": {},
   "outputs": [
    {
     "data": {
      "text/plain": [
       "'Verona'"
      ]
     },
     "execution_count": 6,
     "metadata": {},
     "output_type": "execute_result"
    }
   ],
   "source": [
    "# the span returned is the index. \n",
    "# Consider if we were to splice the string using the span bounds\n",
    "string[47:53]"
   ]
  },
  {
   "cell_type": "code",
   "execution_count": 7,
   "id": "755f59ae",
   "metadata": {},
   "outputs": [
    {
     "data": {
      "text/plain": [
       "<re.Match object; span=(39, 53), match='In fair Verona'>"
      ]
     },
     "execution_count": 7,
     "metadata": {},
     "output_type": "execute_result"
    }
   ],
   "source": [
    "re.search(r\"In fair Verona\", string)"
   ]
  },
  {
   "cell_type": "code",
   "execution_count": 8,
   "id": "cfe97a67",
   "metadata": {},
   "outputs": [],
   "source": [
    "# The string \"Leonardo DiCaprio\" is not here, so re.search returns None\n",
    "re.search(r\"Leonardo DiCaprio\", string)"
   ]
  },
  {
   "cell_type": "code",
   "execution_count": 9,
   "id": "8ccd03c4",
   "metadata": {},
   "outputs": [
    {
     "data": {
      "text/plain": [
       "<re.Match object; span=(126, 131), match='civil'>"
      ]
     },
     "execution_count": 9,
     "metadata": {},
     "output_type": "execute_result"
    }
   ],
   "source": [
    "# re.search returns the first match\n",
    "re.search(r\"civil\", string)"
   ]
  },
  {
   "cell_type": "code",
   "execution_count": 10,
   "id": "80942b16",
   "metadata": {},
   "outputs": [
    {
     "data": {
      "text/plain": [
       "['civil', 'civil']"
      ]
     },
     "execution_count": 10,
     "metadata": {},
     "output_type": "execute_result"
    }
   ],
   "source": [
    "# .findall returns all matches\n",
    "re.findall(r\"civil\", string)"
   ]
  },
  {
   "cell_type": "code",
   "execution_count": 11,
   "id": "4f81eb50",
   "metadata": {},
   "outputs": [
    {
     "data": {
      "text/plain": [
       "[]"
      ]
     },
     "execution_count": 11,
     "metadata": {},
     "output_type": "execute_result"
    }
   ],
   "source": [
    "# empty set for no matches with .findall\n",
    "re.findall(r\"Claire Danes\", string)"
   ]
  },
  {
   "cell_type": "code",
   "execution_count": 12,
   "id": "672c8b72",
   "metadata": {},
   "outputs": [
    {
     "data": {
      "text/plain": [
       "<re.Match object; span=(0, 3), match='Two'>"
      ]
     },
     "execution_count": 12,
     "metadata": {},
     "output_type": "execute_result"
    }
   ],
   "source": [
    "re.search(r\"Two\", string)"
   ]
  },
  {
   "cell_type": "code",
   "execution_count": 13,
   "id": "d6e9c4f4",
   "metadata": {},
   "outputs": [],
   "source": [
    "# Are computers particular on specifics?\n",
    "re.search(r\"two\", string)"
   ]
  },
  {
   "cell_type": "code",
   "execution_count": 14,
   "id": "a58afdde",
   "metadata": {},
   "outputs": [
    {
     "data": {
      "text/plain": [
       "<re.Match object; span=(0, 3), match='Two'>"
      ]
     },
     "execution_count": 14,
     "metadata": {},
     "output_type": "execute_result"
    }
   ],
   "source": [
    "# The re.IGNORECASE flag does exactly that\n",
    "re.search(r\"two\", string, re.IGNORECASE)"
   ]
  },
  {
   "cell_type": "code",
   "execution_count": 15,
   "id": "c5c0b422",
   "metadata": {},
   "outputs": [
    {
     "data": {
      "text/plain": [
       "<re.Match object; span=(0, 1), match='a'>"
      ]
     },
     "execution_count": 15,
     "metadata": {},
     "output_type": "execute_result"
    }
   ],
   "source": [
    "re.search(r\"A\", \"aaaaaa\", re.IGNORECASE)"
   ]
  },
  {
   "cell_type": "code",
   "execution_count": 16,
   "id": "08ad7ff8",
   "metadata": {},
   "outputs": [
    {
     "data": {
      "text/plain": [
       "<re.Match object; span=(0, 5), match='aaaaa'>"
      ]
     },
     "execution_count": 16,
     "metadata": {},
     "output_type": "execute_result"
    }
   ],
   "source": [
    "re.search(r\"Aaaaa\", \"aaaaaa\", re.IGNORECASE)"
   ]
  },
  {
   "cell_type": "markdown",
   "id": "857d51d1",
   "metadata": {},
   "source": [
    "## Using `|` for a logical OR to open opportunities\n",
    "- We can use `|` with literal characters or other regular expression patterns"
   ]
  },
  {
   "cell_type": "code",
   "execution_count": 17,
   "id": "971d7d94",
   "metadata": {},
   "outputs": [
    {
     "data": {
      "text/plain": [
       "['grey', 'gray', 'gray', 'grey']"
      ]
     },
     "execution_count": 17,
     "metadata": {},
     "output_type": "execute_result"
    }
   ],
   "source": [
    "# OR\n",
    "# Findall returns all matches \n",
    "re.findall(r\"gray|grey\", \"I can't remember if you spell grey gray or gray like grey!\")"
   ]
  },
  {
   "cell_type": "code",
   "execution_count": 18,
   "id": "47b73648",
   "metadata": {},
   "outputs": [
    {
     "data": {
      "text/plain": [
       "<re.Match object; span=(12, 17), match='apple'>"
      ]
     },
     "execution_count": 18,
     "metadata": {},
     "output_type": "execute_result"
    }
   ],
   "source": [
    "# The .search method matches only the first match\n",
    "re.search(r\"orange|apple\", \"I like both apples and oranges\")"
   ]
  },
  {
   "cell_type": "code",
   "execution_count": 19,
   "id": "19dc9e16",
   "metadata": {},
   "outputs": [
    {
     "data": {
      "text/plain": [
       "['this', 'that']"
      ]
     },
     "execution_count": 19,
     "metadata": {},
     "output_type": "execute_result"
    }
   ],
   "source": [
    "re.findall(r\"this|that\", \"this that and the other\")"
   ]
  },
  {
   "cell_type": "code",
   "execution_count": 20,
   "id": "a33c092c",
   "metadata": {},
   "outputs": [
    {
     "data": {
      "text/plain": [
       "<re.Match object; span=(1, 2), match='a'>"
      ]
     },
     "execution_count": 20,
     "metadata": {},
     "output_type": "execute_result"
    }
   ],
   "source": [
    "# has a vowel, anywhere\n",
    "re.search(r\"a|e|i|o|u\", \"banana\", re.IGNORECASE)"
   ]
  },
  {
   "cell_type": "code",
   "execution_count": 21,
   "id": "8f9d0ce8",
   "metadata": {},
   "outputs": [
    {
     "data": {
      "text/plain": [
       "['a', 'a', 'a']"
      ]
     },
     "execution_count": 21,
     "metadata": {},
     "output_type": "execute_result"
    }
   ],
   "source": [
    "re.findall(r\"a|e|i|o|u\", \"banana\", re.IGNORECASE)"
   ]
  },
  {
   "cell_type": "code",
   "execution_count": 23,
   "id": "217e22d5",
   "metadata": {},
   "outputs": [
    {
     "data": {
      "text/plain": [
       "<re.Match object; span=(0, 10), match='bananarama'>"
      ]
     },
     "execution_count": 23,
     "metadata": {},
     "output_type": "execute_result"
    }
   ],
   "source": [
    "# carot is starts-with\n",
    "# . is any character\n",
    "# * is zero or more\n",
    "re.search(r\"^b.*\", \"bananarama\")"
   ]
  },
  {
   "cell_type": "code",
   "execution_count": 24,
   "id": "83a5c8b7",
   "metadata": {},
   "outputs": [
    {
     "data": {
      "text/plain": [
       "<re.Match object; span=(0, 17), match='bananarama pajama'>"
      ]
     },
     "execution_count": 24,
     "metadata": {},
     "output_type": "execute_result"
    }
   ],
   "source": [
    "# .* finds the largest possible match\n",
    "# technical term is greedy\n",
    "re.search(r\"^b.*\", \"bananarama pajama\")"
   ]
  },
  {
   "cell_type": "code",
   "execution_count": 28,
   "id": "06a035fd",
   "metadata": {},
   "outputs": [
    {
     "data": {
      "text/plain": [
       "<re.Match object; span=(6, 8), match='ba'>"
      ]
     },
     "execution_count": 28,
     "metadata": {},
     "output_type": "execute_result"
    }
   ],
   "source": [
    "# match the character b then any other character\n",
    "re.search(r\"b.\", \"hello bananarama pajama\")"
   ]
  },
  {
   "cell_type": "code",
   "execution_count": 31,
   "id": "31f3c9cb",
   "metadata": {},
   "outputs": [
    {
     "data": {
      "text/plain": [
       "<re.Match object; span=(6, 23), match='bananarama pajama'>"
      ]
     },
     "execution_count": 31,
     "metadata": {},
     "output_type": "execute_result"
    }
   ],
   "source": [
    "# match b followed by 3 of any character\n",
    "re.search(r\"b.*\", \"hello bananarama pajama\")"
   ]
  },
  {
   "cell_type": "code",
   "execution_count": 33,
   "id": "0ec6d15c",
   "metadata": {},
   "outputs": [
    {
     "data": {
      "text/plain": [
       "<re.Match object; span=(6, 17), match='bananarama '>"
      ]
     },
     "execution_count": 33,
     "metadata": {},
     "output_type": "execute_result"
    }
   ],
   "source": [
    "re.search(r\"b.* \", \"hello bananarama pajama\")"
   ]
  },
  {
   "cell_type": "code",
   "execution_count": 35,
   "id": "4dfc899a",
   "metadata": {},
   "outputs": [
    {
     "data": {
      "text/plain": [
       "<re.Match object; span=(0, 1), match='h'>"
      ]
     },
     "execution_count": 35,
     "metadata": {},
     "output_type": "execute_result"
    }
   ],
   "source": [
    "re.search(r\"[^b]\", \"hello bananarama pajama\")"
   ]
  },
  {
   "cell_type": "code",
   "execution_count": 36,
   "id": "2f68fc1c",
   "metadata": {},
   "outputs": [],
   "source": [
    "# let's find something that starts with a then has any number of other characters\n",
    "re.search(r\"^a.*\", \"hello bananarama pajama\")"
   ]
  },
  {
   "cell_type": "code",
   "execution_count": 37,
   "id": "c30d6015",
   "metadata": {},
   "outputs": [
    {
     "data": {
      "text/plain": [
       "<re.Match object; span=(6, 23), match='bananarama pajama'>"
      ]
     },
     "execution_count": 37,
     "metadata": {},
     "output_type": "execute_result"
    }
   ],
   "source": [
    "re.search(r\"ban.*\", \"hello bananarama pajama\")"
   ]
  },
  {
   "cell_type": "code",
   "execution_count": 38,
   "id": "6d1fc70b",
   "metadata": {},
   "outputs": [
    {
     "data": {
      "text/plain": [
       "<re.Match object; span=(7, 23), match='ananarama pajama'>"
      ]
     },
     "execution_count": 38,
     "metadata": {},
     "output_type": "execute_result"
    }
   ],
   "source": [
    "re.search(r\"a.*\", \"hello bananarama pajama\")"
   ]
  },
  {
   "cell_type": "code",
   "execution_count": 41,
   "id": "2fb9ee62",
   "metadata": {},
   "outputs": [
    {
     "data": {
      "text/plain": [
       "<re.Match object; span=(0, 10), match='bananarama'>"
      ]
     },
     "execution_count": 41,
     "metadata": {},
     "output_type": "execute_result"
    }
   ],
   "source": [
    "# starts with\n",
    "# anything\n",
    "# ends with \n",
    "re.search(r\"^b.*rama\", \"bananarama pajama\")"
   ]
  },
  {
   "cell_type": "code",
   "execution_count": 45,
   "id": "ecc2f11f",
   "metadata": {},
   "outputs": [
    {
     "data": {
      "text/plain": [
       "<re.Match object; span=(0, 17), match='bananarama pajama'>"
      ]
     },
     "execution_count": 45,
     "metadata": {},
     "output_type": "execute_result"
    }
   ],
   "source": [
    "re.search(r\".*jama$\", \"bananarama pajama\")"
   ]
  },
  {
   "cell_type": "code",
   "execution_count": 46,
   "id": "20effc92",
   "metadata": {},
   "outputs": [
    {
     "data": {
      "text/plain": [
       "<re.Match object; span=(0, 10), match='bananarama'>"
      ]
     },
     "execution_count": 46,
     "metadata": {},
     "output_type": "execute_result"
    }
   ],
   "source": [
    "re.search(r\".*rama\", \"bananarama pajama\")"
   ]
  },
  {
   "cell_type": "code",
   "execution_count": 47,
   "id": "7a587bd4",
   "metadata": {},
   "outputs": [
    {
     "data": {
      "text/plain": [
       "<re.Match object; span=(0, 1), match='a'>"
      ]
     },
     "execution_count": 47,
     "metadata": {},
     "output_type": "execute_result"
    }
   ],
   "source": [
    "# \\w matches [a-zA-Z0-9]\n",
    "re.search(r\"\\w\", \"abc123\")"
   ]
  },
  {
   "cell_type": "code",
   "execution_count": 48,
   "id": "df79aeb7",
   "metadata": {},
   "outputs": [
    {
     "data": {
      "text/plain": [
       "<re.Match object; span=(0, 3), match='abc'>"
      ]
     },
     "execution_count": 48,
     "metadata": {},
     "output_type": "execute_result"
    }
   ],
   "source": [
    "re.search(r\"\\w\\w\\w\", \"abc123\")"
   ]
  },
  {
   "cell_type": "code",
   "execution_count": 51,
   "id": "882c7f33",
   "metadata": {},
   "outputs": [
    {
     "data": {
      "text/plain": [
       "<re.Match object; span=(0, 6), match='abc123'>"
      ]
     },
     "execution_count": 51,
     "metadata": {},
     "output_type": "execute_result"
    }
   ],
   "source": [
    "re.search(r\"\\w\\w\\w\\w\\w\\w\", \"abc123\")"
   ]
  },
  {
   "cell_type": "code",
   "execution_count": 53,
   "id": "268c0f70",
   "metadata": {},
   "outputs": [],
   "source": [
    "# seven \\w characters will only match seven of any [a-zA-Z0-9]\n",
    "re.search(r\"\\w\\w\\w\\w\\w\\w\\w\", \"abc123\")"
   ]
  },
  {
   "cell_type": "code",
   "execution_count": 54,
   "id": "d9515307",
   "metadata": {},
   "outputs": [
    {
     "data": {
      "text/plain": [
       "<re.Match object; span=(0, 6), match='abc123'>"
      ]
     },
     "execution_count": 54,
     "metadata": {},
     "output_type": "execute_result"
    }
   ],
   "source": [
    "re.search(r\"\\w*\", \"abc123\")"
   ]
  },
  {
   "cell_type": "code",
   "execution_count": 55,
   "id": "5684bbdc",
   "metadata": {},
   "outputs": [
    {
     "data": {
      "text/plain": [
       "<re.Match object; span=(0, 3), match='abc'>"
      ]
     },
     "execution_count": 55,
     "metadata": {},
     "output_type": "execute_result"
    }
   ],
   "source": [
    "# curly braces for repetition\n",
    "re.search(r\"\\w{3}\", \"abc123\")"
   ]
  },
  {
   "cell_type": "code",
   "execution_count": 57,
   "id": "4dd1d594",
   "metadata": {},
   "outputs": [
    {
     "data": {
      "text/plain": [
       "<re.Match object; span=(0, 6), match='abc123'>"
      ]
     },
     "execution_count": 57,
     "metadata": {},
     "output_type": "execute_result"
    }
   ],
   "source": [
    "re.search(r\"\\w{1,6}\", \"abc123\")"
   ]
  },
  {
   "cell_type": "code",
   "execution_count": 59,
   "id": "e3979a41",
   "metadata": {},
   "outputs": [
    {
     "data": {
      "text/plain": [
       "<re.Match object; span=(0, 6), match='abc123'>"
      ]
     },
     "execution_count": 59,
     "metadata": {},
     "output_type": "execute_result"
    }
   ],
   "source": [
    "# {n,} matches n or more times\n",
    "re.search(r\"\\w{1,}\", \"abc123 is the place to be\")"
   ]
  },
  {
   "cell_type": "code",
   "execution_count": 60,
   "id": "f2a36acc",
   "metadata": {},
   "outputs": [
    {
     "data": {
      "text/plain": [
       "['abc123', 'is', 'the', 'place', 'to', 'be']"
      ]
     },
     "execution_count": 60,
     "metadata": {},
     "output_type": "execute_result"
    }
   ],
   "source": [
    "# {n,} matches n or more times\n",
    "re.findall(r\"\\w{1,}\", \"abc123 is the place to be\")"
   ]
  },
  {
   "cell_type": "code",
   "execution_count": 65,
   "id": "bbbb2e43",
   "metadata": {},
   "outputs": [
    {
     "data": {
      "text/plain": [
       "['abc123', 'is', 'the', 'place', 'to', 'be', 'banara', 'mapaja', 'ma']"
      ]
     },
     "execution_count": 65,
     "metadata": {},
     "output_type": "execute_result"
    }
   ],
   "source": [
    "# {n,} matches n or more times\n",
    "re.findall(r\"\\w{1,6}\", \"abc123 is the place to be banaramapajama\")"
   ]
  },
  {
   "cell_type": "code",
   "execution_count": 67,
   "id": "699d61be",
   "metadata": {},
   "outputs": [
    {
     "data": {
      "text/plain": [
       "['abc123 ', 'is ', 'the ', 'place ', 'to ', 'be ']"
      ]
     },
     "execution_count": 67,
     "metadata": {},
     "output_type": "execute_result"
    }
   ],
   "source": [
    "# {n,} matches n or more times\n",
    "# space after the 1-6 alphanumeric \\w matches\n",
    "re.findall(r\"\\w{1,6} \", \"abc123 is the place to be banaramapajama\")"
   ]
  },
  {
   "cell_type": "code",
   "execution_count": 66,
   "id": "b9cf5036",
   "metadata": {},
   "outputs": [
    {
     "data": {
      "text/plain": [
       "<re.Match object; span=(0, 6), match='abc123'>"
      ]
     },
     "execution_count": 66,
     "metadata": {},
     "output_type": "execute_result"
    }
   ],
   "source": [
    "# {n,} matches n or more times\n",
    "re.search(r\"\\w{1,6}\", \"abc123 is the place to be banaramapajama\")"
   ]
  },
  {
   "cell_type": "code",
   "execution_count": 63,
   "id": "909686b6",
   "metadata": {},
   "outputs": [
    {
     "data": {
      "text/plain": [
       "['abc123', 'is', 'the', 'place', 'to', 'be']"
      ]
     },
     "execution_count": 63,
     "metadata": {},
     "output_type": "execute_result"
    }
   ],
   "source": [
    "# r\"\\w+\" is the same as r\"\\w{1,}\"\n",
    "re.findall(r\"\\w+\", \"abc123 is the place to be\")"
   ]
  },
  {
   "cell_type": "code",
   "execution_count": 70,
   "id": "d563703f",
   "metadata": {},
   "outputs": [
    {
     "data": {
      "text/plain": [
       "<re.Match object; span=(0, 8), match='226-3232'>"
      ]
     },
     "execution_count": 70,
     "metadata": {},
     "output_type": "execute_result"
    }
   ],
   "source": [
    "# 3 digits then a single character of any then 4 digits\n",
    "re.search(r\"[0-9]{3}.[0-9]{4}\", \"226-3232\")"
   ]
  },
  {
   "cell_type": "code",
   "execution_count": 71,
   "id": "462c3bda",
   "metadata": {},
   "outputs": [
    {
     "data": {
      "text/plain": [
       "<re.Match object; span=(0, 8), match='226.3232'>"
      ]
     },
     "execution_count": 71,
     "metadata": {},
     "output_type": "execute_result"
    }
   ],
   "source": [
    "# 3 digits then a single character of any then 4 digits\n",
    "re.search(r\"[0-9]{3}.[0-9]{4}\", \"226.3232\")"
   ]
  },
  {
   "cell_type": "code",
   "execution_count": 73,
   "id": "5770e3a9",
   "metadata": {},
   "outputs": [
    {
     "data": {
      "text/plain": [
       "<re.Match object; span=(0, 7), match='2263232'>"
      ]
     },
     "execution_count": 73,
     "metadata": {},
     "output_type": "execute_result"
    }
   ],
   "source": [
    "# What if the delimiter is optional?\n",
    "# question mark metacharacter means the thing to the left of the ? is optional\n",
    "re.search(r\"[0-9]{3}.?[0-9]{4}\", \"2263232\")\n"
   ]
  },
  {
   "cell_type": "code",
   "execution_count": 76,
   "id": "9e684bc3",
   "metadata": {},
   "outputs": [
    {
     "data": {
      "text/plain": [
       "<re.Match object; span=(0, 8), match='226-3232'>"
      ]
     },
     "execution_count": 76,
     "metadata": {},
     "output_type": "execute_result"
    }
   ],
   "source": [
    "re.search(r\"[0-9]{3}.?[0-9]{4}\", \"226-3232\")\n"
   ]
  },
  {
   "cell_type": "code",
   "execution_count": 77,
   "id": "88ae8ed4",
   "metadata": {},
   "outputs": [
    {
     "data": {
      "text/plain": [
       "<re.Match object; span=(0, 7), match='2263232'>"
      ]
     },
     "execution_count": 77,
     "metadata": {},
     "output_type": "execute_result"
    }
   ],
   "source": [
    "re.search(r\"[0-9]{3}.?[0-9]{4}\", \"2263232\")"
   ]
  },
  {
   "cell_type": "markdown",
   "id": "95a06a11",
   "metadata": {},
   "source": [
    "## Using a RegEx pattern to split a string\n",
    "- The `re.split` method returns a list of strings\n",
    "- The matching substring is removed\n",
    "- We can split on any regex pattern, not only character literals"
   ]
  },
  {
   "cell_type": "code",
   "execution_count": null,
   "id": "62abee0c",
   "metadata": {},
   "outputs": [],
   "source": [
    "# Split the phone number on the\n",
    "re.split(r\"-\", \"210-226-3232\")"
   ]
  },
  {
   "cell_type": "code",
   "execution_count": null,
   "id": "d9a51e9e",
   "metadata": {
    "scrolled": true
   },
   "outputs": [],
   "source": [
    "# Splits the string on the space character\n",
    "# The \\ is necessary\n",
    "re.split(r\" \", \"this that and the other\")"
   ]
  },
  {
   "cell_type": "code",
   "execution_count": null,
   "id": "7d20cf95",
   "metadata": {},
   "outputs": [],
   "source": [
    "# Parse these songs into a dataframe containing 2 columns: artist_name and song_name\n",
    "# Hint: break the string into an array of strings that hold each song/artist record\n",
    "songs = \"Harry_Belafonte_-_Jump_In_the_Line.mp3,Willie_Mae_'Big_Mama'_Thornton_-_Hound_Dog.mp3,Tina_Turner_-_Proud_Mary.mp3,Prince_-_Purple_Rain.mp3\"\n",
    "songs"
   ]
  },
  {
   "cell_type": "markdown",
   "id": "f5636e9d",
   "metadata": {},
   "source": [
    "## [Character Classes]\n",
    "- Square brackets make character classes \n",
    "- Character classes provide OR behavior\n",
    "- In a character classe, `^` works as a \"None of\" operator\n",
    "- Metacharacters match their literal character when inside of square brackets for a character class"
   ]
  },
  {
   "cell_type": "code",
   "execution_count": null,
   "id": "adae9f5b",
   "metadata": {},
   "outputs": [],
   "source": [
    "# has a vowel, anywhere\n",
    "\n",
    "re.search(r\"[aeiou]\", \"banana\", re.IGNORECASE)"
   ]
  },
  {
   "cell_type": "code",
   "execution_count": null,
   "id": "65d0890d",
   "metadata": {},
   "outputs": [],
   "source": [
    "# The parentheses around \n",
    "re.findall(r\"gr[ae]y\", \"Some people spell gray like grey\")"
   ]
  },
  {
   "cell_type": "code",
   "execution_count": null,
   "id": "0cd12b75",
   "metadata": {},
   "outputs": [],
   "source": [
    "# has a vowel, anywhere\n",
    "\n",
    "re.search(r\"a|e|i|o|u\", \"banana\", re.IGNORECASE)"
   ]
  },
  {
   "cell_type": "code",
   "execution_count": null,
   "id": "8da31325",
   "metadata": {},
   "outputs": [],
   "source": [
    "# Is a vowel\n",
    "\n",
    "assert bool(re.search(r\"^[aeiou]{1}$\", \"a\", re.IGNORECASE)) == True\n",
    "assert bool(re.search(r\"^[aeiou]{1}$\", \"aaaa\", re.IGNORECASE)) == False"
   ]
  },
  {
   "cell_type": "code",
   "execution_count": null,
   "id": "20a89121",
   "metadata": {},
   "outputs": [],
   "source": [
    "# is only vowels\n",
    "\n",
    "re.search(r\"^[aeiou]*$\", \"aaeeeaa\")"
   ]
  },
  {
   "cell_type": "code",
   "execution_count": null,
   "id": "f9c8080d",
   "metadata": {},
   "outputs": [],
   "source": [
    "# has a p or q, anywhere\n",
    "re.search(r\"p|q\", \"albuquerque\", re.IGNORECASE)"
   ]
  },
  {
   "cell_type": "code",
   "execution_count": null,
   "id": "f6bc7a67",
   "metadata": {},
   "outputs": [],
   "source": [
    "# has a p or q, anywhere\n",
    "re.search(r\"[pq]\", \"albuquerque\", re.IGNORECASE)"
   ]
  },
  {
   "cell_type": "code",
   "execution_count": null,
   "id": "83c9d632",
   "metadata": {},
   "outputs": [],
   "source": [
    "# is p or q\n",
    "re.search(r\"^[pq]{1}$\", \"q\", re.IGNORECASE)"
   ]
  },
  {
   "cell_type": "code",
   "execution_count": null,
   "id": "111cc9f3",
   "metadata": {},
   "outputs": [],
   "source": [
    "# is only Ps and Qs\n",
    "assert bool(re.search(r\"^[pqPQ]*$\", \"pqpqpqpPQQQQQQQQp\")) == True\n",
    "assert bool(re.search(r\"^[pq]*$\", \"b3qwpeop\")) == False"
   ]
  },
  {
   "cell_type": "code",
   "execution_count": null,
   "id": "b44277a2",
   "metadata": {},
   "outputs": [],
   "source": [
    "string = \"Two households, both alike in dignity, In fair Verona, where we lay our scene, From ancient grudge break to new mutiny, Where civil blood makes civil hands unclean.\"\n",
    "string\n",
    "\n",
    "re.findall(r\"civil\\s.{5}\", string)\n"
   ]
  },
  {
   "cell_type": "markdown",
   "id": "b345d70f",
   "metadata": {},
   "source": [
    "## Repetition characters and Special Sequences\n",
    "> Walk before you run\n",
    "\n",
    "- `.` means any single character\n",
    "- `*` means zero or more characters\n",
    "- `+` means one or more characters\n",
    "- `.` matches any character\n",
    "- `\\d` matches any decimal. Is equivalent to `[0-9]`\n",
    "- `\\D` matches any non-digit character and is equivalent to `[^0-9]`. \n",
    "- `\\s` matches any white space like ` `, tab, soft return, new line etc...\n",
    "- `\\w` matches any alphanumeric character and underscore. Equivalent to `[0-9a-zA-Z_]`\n",
    "- `\\W` matches any non-alphanumeric character. Equivalent to `[^a-zA-Z0-9_]`\n",
    "- `{n)` exactly n characters\n",
    "- `{n,}` n or more characters\n",
    "- `{n, m}` n to m times"
   ]
  },
  {
   "cell_type": "markdown",
   "id": "6841d1c7",
   "metadata": {},
   "source": []
  },
  {
   "cell_type": "code",
   "execution_count": null,
   "id": "78c02c1a",
   "metadata": {},
   "outputs": [],
   "source": []
  },
  {
   "cell_type": "code",
   "execution_count": null,
   "id": "e74162f9",
   "metadata": {},
   "outputs": [],
   "source": []
  },
  {
   "cell_type": "code",
   "execution_count": null,
   "id": "69fbf540",
   "metadata": {},
   "outputs": [],
   "source": []
  },
  {
   "cell_type": "markdown",
   "id": "1944e535",
   "metadata": {},
   "source": [
    "## Groups"
   ]
  },
  {
   "cell_type": "code",
   "execution_count": null,
   "id": "ca2c3717",
   "metadata": {},
   "outputs": [],
   "source": []
  }
 ],
 "metadata": {
  "kernelspec": {
   "display_name": "Python 3 (ipykernel)",
   "language": "python",
   "name": "python3"
  },
  "language_info": {
   "codemirror_mode": {
    "name": "ipython",
    "version": 3
   },
   "file_extension": ".py",
   "mimetype": "text/x-python",
   "name": "python",
   "nbconvert_exporter": "python",
   "pygments_lexer": "ipython3",
   "version": "3.8.12"
  }
 },
 "nbformat": 4,
 "nbformat_minor": 5
}
