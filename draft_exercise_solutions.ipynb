{
 "cells": [
  {
   "cell_type": "code",
   "execution_count": 3,
   "id": "de34d010",
   "metadata": {},
   "outputs": [],
   "source": [
    "import re\n",
    "import pandas"
   ]
  },
  {
   "cell_type": "markdown",
   "id": "25bb82d9",
   "metadata": {},
   "source": [
    "## Exercise 1\n",
    "Write an `is_vowel` function."
   ]
  },
  {
   "cell_type": "code",
   "execution_count": 45,
   "id": "5aa54a84",
   "metadata": {},
   "outputs": [
    {
     "data": {
      "text/plain": [
       "(False, True)"
      ]
     },
     "execution_count": 45,
     "metadata": {},
     "output_type": "execute_result"
    }
   ],
   "source": [
    "def is_vowel(string):\n",
    "    regex = r\"[aeiou]\"\n",
    "    return re.search(regex, \"BANANA\", re.IGNORECASE) and len(string) == 1\n",
    "\n",
    "is_vowel(\"banana\"), is_vowel(\"A\")"
   ]
  },
  {
   "cell_type": "code",
   "execution_count": 38,
   "id": "9b0dfa01",
   "metadata": {},
   "outputs": [],
   "source": [
    "# Todo factor the len(string) == 1 into regex"
   ]
  },
  {
   "cell_type": "code",
   "execution_count": 80,
   "id": "e03db6d1",
   "metadata": {},
   "outputs": [],
   "source": [
    "re.match(r\"[aeiou]{1}$\", \"A\")"
   ]
  },
  {
   "cell_type": "markdown",
   "id": "aead5c7a",
   "metadata": {},
   "source": [
    "## Exercise 2\n",
    "\n",
    "Write a function named `is_valid_username` that accepts a string as input. \n",
    "\n",
    "A valid username:\n",
    "- starts with a lowercase letter\n",
    "- only consists of lowercase letters, numbers, or the _ character. \n",
    "- It should also be no longer than 32 characters. \n",
    "- The function should return either True or False depending on whether the passed string is a valid username."
   ]
  },
  {
   "cell_type": "code",
   "execution_count": 46,
   "id": "70ca4c1a",
   "metadata": {},
   "outputs": [],
   "source": [
    "string = \"banana\""
   ]
  },
  {
   "cell_type": "code",
   "execution_count": 51,
   "id": "d73ae7b0",
   "metadata": {},
   "outputs": [
    {
     "data": {
      "text/plain": [
       "<re.Match object; span=(0, 1), match='a'>"
      ]
     },
     "execution_count": 51,
     "metadata": {},
     "output_type": "execute_result"
    }
   ],
   "source": [
    "starts_with_lowercase_letter = re.search(r\"^[a-z]\", \"a\")\n",
    "starts_with_lowercase_letter"
   ]
  },
  {
   "cell_type": "code",
   "execution_count": 53,
   "id": "a8f8bc7e",
   "metadata": {},
   "outputs": [
    {
     "data": {
      "text/plain": [
       "<re.Match object; span=(0, 7), match='bnana3_'>"
      ]
     },
     "execution_count": 53,
     "metadata": {},
     "output_type": "execute_result"
    }
   ],
   "source": [
    "# only_lowercase_letters_numbers_or_underscore \n",
    "re.search(r\"[a-z_0-9].*\", \"bnana3_\")"
   ]
  },
  {
   "cell_type": "code",
   "execution_count": 58,
   "id": "b406cace",
   "metadata": {},
   "outputs": [
    {
     "data": {
      "text/plain": [
       "<re.Match object; span=(0, 7), match='bnana3_'>"
      ]
     },
     "execution_count": 58,
     "metadata": {},
     "output_type": "execute_result"
    }
   ],
   "source": [
    "# Another way to write the above only_lowercase_letters_numbers_or_underscore = \n",
    "re.search(r\"\\w.*\", \"bnana3_\")"
   ]
  },
  {
   "cell_type": "code",
   "execution_count": null,
   "id": "dbec371e",
   "metadata": {},
   "outputs": [],
   "source": [
    "# My way is to use the len function\n",
    "# Todo, make this regex\n",
    "# short_enough = len(string) <= 32"
   ]
  },
  {
   "cell_type": "code",
   "execution_count": 68,
   "id": "513b77e6",
   "metadata": {},
   "outputs": [],
   "source": [
    "def is_valid_username(string):\n",
    "    starts_with_lowercase_letter = bool(re.search(r\"^[a-z]\", string))\n",
    "    lowercase_letters_numbers_underscore = bool(re.search(r\"[a-z_0-9].*\", string))\n",
    "    short_enough = len(string) <= 32\n",
    "    return bool(short_enough and lowercase_letters_numbers_underscore and starts_with_lowercase_letter)"
   ]
  },
  {
   "cell_type": "code",
   "execution_count": 69,
   "id": "3287f5ff",
   "metadata": {},
   "outputs": [
    {
     "data": {
      "text/plain": [
       "True"
      ]
     },
     "execution_count": 69,
     "metadata": {},
     "output_type": "execute_result"
    }
   ],
   "source": [
    "# the above is broken\n",
    "is_valid_username(\"b@#R!#RL#JR!#\")"
   ]
  },
  {
   "cell_type": "code",
   "execution_count": 70,
   "id": "19dae908",
   "metadata": {},
   "outputs": [],
   "source": [
    "string = \"b@#R!#RL#JR!#\""
   ]
  },
  {
   "cell_type": "code",
   "execution_count": 72,
   "id": "d953ad44",
   "metadata": {},
   "outputs": [],
   "source": [
    "re.search(r\"^[a-z]\\w*\", string)"
   ]
  },
  {
   "cell_type": "markdown",
   "id": "71cfe786",
   "metadata": {},
   "source": [
    "## Exercise 3\n",
    "Write a regular expression to capture phone numbers. It should match all of the following:\n",
    "\n"
   ]
  },
  {
   "cell_type": "code",
   "execution_count": null,
   "id": "58a57ede",
   "metadata": {},
   "outputs": [],
   "source": []
  },
  {
   "cell_type": "markdown",
   "id": "860da259",
   "metadata": {},
   "source": [
    "## Exercise 4\n",
    "Use regular expressions to convert the dates below to the standardized year-month-day format.\n",
    "\n"
   ]
  },
  {
   "cell_type": "code",
   "execution_count": null,
   "id": "2eae112a",
   "metadata": {},
   "outputs": [],
   "source": []
  },
  {
   "cell_type": "markdown",
   "id": "11372746",
   "metadata": {},
   "source": [
    "## Exercise 5\n",
    "Write a regex to extract the various parts of these logfile lines:\n",
    "\n",
    "`GET /api/v1/sales?page=86 [16/Apr/2019:193452+0000] HTTP/1.1 {200} 510348 \"python-requests/2.21.0\" 97.105.19.58`\n",
    "\n",
    "`POST /users_accounts/file-upload [16/Apr/2019:193452+0000] HTTP/1.1 {201} 42 \"User-Agent: Mozilla/5.0 (X11; Fedora; Fedora; Linux x86_64) AppleWebKit/537.36 (KHTML, like Gecko) Chrome/73.0.3683.86 Safari/537.36\" 97.105.19.58`\n",
    "\n",
    "`GET /api/v1/items?page=3 [16/Apr/2019:193453+0000] HTTP/1.1 {429} 3561 \"python-requests/2.21.0\" 97.105.19.58`\n"
   ]
  },
  {
   "cell_type": "code",
   "execution_count": null,
   "id": "907d7bea",
   "metadata": {},
   "outputs": [],
   "source": []
  },
  {
   "cell_type": "markdown",
   "id": "ebbbad01",
   "metadata": {},
   "source": [
    "## Bonus Exercise\n",
    "\n",
    "You can find a list of words on your mac at `/usr/share/dict/words`. Use this file to answer the following questions:\n",
    "\n",
    "- How many words have at least 3 vowels?\n",
    "- How many words have at least 3 vowels in a row?\n",
    "- How many words have at least 4 consonants in a row?\n",
    "- How many words start and end with the same letter?\n",
    "- How many words start and end with a vowel?\n",
    "- How many words contain the same letter 3 times in a row?\n",
    "- What other interesting patterns in words can you find?"
   ]
  },
  {
   "cell_type": "code",
   "execution_count": null,
   "id": "a23bc51c",
   "metadata": {},
   "outputs": [],
   "source": []
  }
 ],
 "metadata": {
  "kernelspec": {
   "display_name": "Python 3 (ipykernel)",
   "language": "python",
   "name": "python3"
  },
  "language_info": {
   "codemirror_mode": {
    "name": "ipython",
    "version": 3
   },
   "file_extension": ".py",
   "mimetype": "text/x-python",
   "name": "python",
   "nbconvert_exporter": "python",
   "pygments_lexer": "ipython3",
   "version": "3.9.7"
  }
 },
 "nbformat": 4,
 "nbformat_minor": 5
}
