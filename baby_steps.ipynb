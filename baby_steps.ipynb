{
 "cells": [
  {
   "cell_type": "code",
   "execution_count": 1,
   "id": "6c74b8d0",
   "metadata": {},
   "outputs": [],
   "source": [
    "import re"
   ]
  },
  {
   "cell_type": "markdown",
   "id": "4a3ad72f",
   "metadata": {},
   "source": [
    "# Regular Expressions\n",
    "\n",
    "\n",
    "\n",
    "search scans through the whole string.\n",
    "\n",
    "match scans only the beginning of the string.\n",
    "\n"
   ]
  },
  {
   "cell_type": "code",
   "execution_count": 9,
   "id": "61a1ba0e",
   "metadata": {},
   "outputs": [],
   "source": [
    "# Any character, but only one character\n"
   ]
  },
  {
   "cell_type": "code",
   "execution_count": null,
   "id": "217bf7a8",
   "metadata": {},
   "outputs": [],
   "source": [
    "# string starts with 3 numerals in a row, anything else can follow\n"
   ]
  },
  {
   "cell_type": "code",
   "execution_count": null,
   "id": "d9ced3b8",
   "metadata": {},
   "outputs": [],
   "source": []
  }
 ],
 "metadata": {
  "kernelspec": {
   "display_name": "Python 3 (ipykernel)",
   "language": "python",
   "name": "python3"
  },
  "language_info": {
   "codemirror_mode": {
    "name": "ipython",
    "version": 3
   },
   "file_extension": ".py",
   "mimetype": "text/x-python",
   "name": "python",
   "nbconvert_exporter": "python",
   "pygments_lexer": "ipython3",
   "version": "3.9.7"
  }
 },
 "nbformat": 4,
 "nbformat_minor": 5
}
